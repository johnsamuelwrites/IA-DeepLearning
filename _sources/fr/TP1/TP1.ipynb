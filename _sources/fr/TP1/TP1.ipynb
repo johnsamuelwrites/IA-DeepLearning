{
 "cells": [
  {
   "cell_type": "markdown",
   "id": "e542386b-0558-4e40-b52c-de17d2181f85",
   "metadata": {},
   "source": [
    "# Travaux pratiques 1 "
   ]
  },
  {
   "cell_type": "markdown",
   "id": "65848796-ecb3-47ed-a2b7-63e5f85ec963",
   "metadata": {},
   "source": [
    "## Année: 2024-2025"
   ]
  },
  {
   "cell_type": "markdown",
   "id": "673e9851-e863-493d-9526-6f6aaf4aa8af",
   "metadata": {},
   "source": [
    "## Objectifs\n",
    "1. Renforcer les concepts à l'aide d'outils comme NumPy et scikit-learn.\n",
    "2. Appliquer la logique propositionnelle et la tester sur des ensembles de données d'images.\n",
    "3. Explorer la logique prédicative et la valider sur des ensembles de données d'images.\n",
    "4. Comprendre les techniques d'analyse de texte, y compris le stemming, la lemmatisation et l'analyse morphologique."
   ]
  },
  {
   "cell_type": "markdown",
   "id": "4d559f5e-d3ac-47f4-a638-e26c0c692c5e",
   "metadata": {},
   "source": [
    "### Exercice 1.0 [★]\n",
    "\n",
    "Testez le notebook Python Jupyter [rappels](./TP0.ipynb) et familiarisez-vous avec les différentes méthodes des bibliothèques : numpy, scikit-learn, etc."
   ]
  },
  {
   "cell_type": "markdown",
   "id": "8cf40974-7e8e-49fa-ac4c-581a065d53c8",
   "metadata": {},
   "source": [
    "### Exercise 1.1 [★]\n",
    "\n",
    "L'exercice consiste à tester la logique propositionnelle. Le fichier CSV (`image_data.csv`) contient des attributs tels que la couleur, la forme, la taille, la texture et la classification après le processus d'analyse d'image. Définissez les propositions ci-dessous et testez les expressions logiques basées sur ces attributs pour évaluer les relations au sein des données."
   ]
  },
  {
   "cell_type": "markdown",
   "id": "217976e7-5779-4389-8fb3-45e94666f11a",
   "metadata": {},
   "source": [
    "##### Étape 1 : Charger et Inspecter le Fichier CSV\n",
    "1. Lire le fichier CSV dans un DataFrame pandas.\n",
    "2. Afficher les premières lignes du DataFrame pour comprendre la structure."
   ]
  },
  {
   "cell_type": "code",
   "execution_count": null,
   "id": "92fb9556-3809-4049-a703-4b1c0a70fcb3",
   "metadata": {},
   "outputs": [],
   "source": [
    "import pandas as pd\n",
    "\n",
    "# Load the CSV file\n",
    "df = pd.read_csv('../../data/image_data.csv')\n",
    "\n",
    "# Inspect the data\n",
    "print(df.head())"
   ]
  },
  {
   "cell_type": "markdown",
   "id": "119a9271-7e0f-4955-907e-08bdb1664c2d",
   "metadata": {},
   "source": [
    "#### Étape 2 : Définir des Propositions Basées sur les Données\n",
    "1. Créer des propositions booléennes basées sur les colonnes du fichier CSV.\n",
    "   - `P` : Vérifie si la couleur est bleue.\n",
    "   - `Q` : Vérifie si la forme est un cercle.\n",
    "   - `R` : Vérifie si la classification est un animal.\n",
    "   - `S` : Vérifie si la taille est grande (définir un seuil pour 'grand').\n",
    "   - `T` : Vérifie si la texture est rugueuse.\n",
    "   - `U` : Vérifie si la classification est un véhicule.\n",
    "   - `V` : Vérifie si la classification est un bâtiment."
   ]
  },
  {
   "cell_type": "markdown",
   "id": "77c38807-ae3e-4609-ab3a-557a9e8ed85e",
   "metadata": {},
   "source": [
    "#### Étape 3 : Définir les Expressions Logiques\n",
    "Créer des expressions logiques basées sur les propositions définies à l'étape 2.\n",
    "   - `expr1` : Si la couleur est bleue et la forme est un cercle, alors la classification est un animal.\n",
    "   - `expr2` : Si la taille est grande et la texture est rugueuse, alors la classification est un véhicule.\n",
    "   - `expr3` : Si la classification est un bâtiment, que la forme est un cercle, que la couleur est bleue et que la taille est grande, alors la classification est un bâtiment."
   ]
  },
  {
   "cell_type": "markdown",
   "id": "128ac4bc-db36-4012-aa94-9c630fd4f9bc",
   "metadata": {},
   "source": [
    "#### Étape 4 : Tester les Expressions\n",
    "1. Tester les expressions logiques sur chaque ligne du DataFrame.\n",
    "2. Afficher les résultats des expressions pour chaque ligne."
   ]
  },
  {
   "cell_type": "markdown",
   "id": "77f894ed-5328-4275-a816-e7215dddb48f",
   "metadata": {},
   "source": [
    "##### Étape 5 : Ajouter une Proposition Composée avec Négation et Disjonction\n",
    "\n",
    "Créer une nouvelle expression complexe qui teste ce qui suit :\n",
    "- Si l'objet n'est **pas bleu** ou **a une texture lisse**, alors il est classé comme **non un objet**."
   ]
  },
  {
   "cell_type": "markdown",
   "id": "5c593fae-ee62-45fb-b307-028ee8d638b7",
   "metadata": {},
   "source": [
    "##### Étape 6 : Compter les Lignes Satisfaisantes pour Chaque Expression\n",
    "\n",
    "Compter le nombre de lignes où chaque expression logique est `True` et comparer les fréquences des propositions satisfaites."
   ]
  },
  {
   "cell_type": "markdown",
   "id": "ecc3393e-6f86-4231-9468-9c33d0b3bc00",
   "metadata": {},
   "source": [
    "### Exercice 1.2 [★]\n",
    "\n",
    "##### Étape 1 : Installer et Importer Z3\n",
    "- Installer la bibliothèque de solveur Z3 (`z3-solver`).\n",
    "- Importer Z3 et se familiariser avec ses fonctions de base."
   ]
  },
  {
   "cell_type": "code",
   "execution_count": null,
   "id": "ec7b136e-fb90-4137-b90a-1a601e9d819c",
   "metadata": {},
   "outputs": [],
   "source": [
    "!pip install z3-solver"
   ]
  },
  {
   "cell_type": "code",
   "execution_count": null,
   "id": "0e77dfc9-4014-4d2d-9057-7c70b79b94f9",
   "metadata": {},
   "outputs": [],
   "source": [
    "from z3 import *"
   ]
  },
  {
   "cell_type": "markdown",
   "id": "14a3ee50-9470-4690-b6bc-f99d5701d878",
   "metadata": {},
   "source": [
    "##### Étape 2 : Définir les Attributs comme Variables de Logique du Premier Ordre\n",
    "- Définir des variables pour chaque colonne (par exemple, `color`, `shape`, `size`).\n",
    "- Spécifier les valeurs possibles (par exemple, `color` peut être bleu, rouge, vert, etc.).\n",
    "- Définir des contraintes pour des attributs tels que **size** étant un entier et d'autres attributs étant des chaînes de caractères."
   ]
  },
  {
   "cell_type": "code",
   "execution_count": null,
   "id": "1aaab988-7e35-4815-9bcb-1cfaf88921cb",
   "metadata": {},
   "outputs": [],
   "source": [
    "# Declare Z3 variables\n",
    "Color = String('color')\n",
    "Shape = String('shape')\n",
    "Size = Int('size')\n",
    "Texture = String('texture')\n",
    "Classification = String('classification')"
   ]
  },
  {
   "cell_type": "markdown",
   "id": "0220f9ab-e4dd-439b-94cc-6c5faf4c3073",
   "metadata": {},
   "source": [
    "#### Étape 3 : Encoder les Propositions Logiques en Logique du Premier Ordre\n",
    "- Encoder les propositions fournies en utilisant la logique de Z3 (voir l'exercice 1.1).\n",
    "- Exemple : Si l'objet est bleu et circulaire, alors il est classé comme un animal (`Implies(And(Color == \"blue\", Shape == \"circle\"), Classification == \"animal\")`)."
   ]
  },
  {
   "cell_type": "code",
   "execution_count": null,
   "id": "43b9c1a8-8b64-4f19-9423-b2ef22d35573",
   "metadata": {},
   "outputs": [],
   "source": [
    "# Define constraints\n",
    "valid_colors = Or(Color == \"blue\", Color == \"red\", Color == \"green\", Color == \"yellow\", Color == \"purple\")\n",
    "valid_shapes = Or(Shape == \"circle\", Shape == \"square\", Shape == \"triangle\", Shape == \"rectangle\", Shape == \"ellipse\")\n",
    "valid_size = Size >= 100  # Size constraint\n",
    "valid_textures = Or(Texture == \"polka dot\", Texture == \"smooth\", Texture == \"patterned\", Texture == \"rough\")\n",
    "valid_classifications = Or(Classification == \"animal\", Classification == \"plant\", Classification == \"object\", Classification == \"vehicle\", Classification == \"building\")\n",
    "\n",
    "# Add these constraints to the solver\n",
    "solver = Solver()\n",
    "solver.add(valid_colors, valid_shapes, valid_size, valid_textures, valid_classifications)"
   ]
  },
  {
   "cell_type": "markdown",
   "id": "78874e32-5e72-4e74-907b-da73e8f4c930",
   "metadata": {},
   "source": [
    "##### Étape 4 : Résoudre pour la Satisfaisabilité\n",
    "\n",
    "- Utiliser le solveur Z3 pour vérifier si les propositions sont satisfaisables.\n",
    "- Afficher les résultats."
   ]
  },
  {
   "cell_type": "code",
   "execution_count": null,
   "id": "9bc953cd-24d4-4eea-b951-84a03f5fb683",
   "metadata": {},
   "outputs": [],
   "source": [
    "# Check if the solver finds a solution that satisfies the constraints\n",
    "if solver.check() == sat:\n",
    "    print(\"The propositions are satisfiable.\")\n",
    "    model = solver.model()\n",
    "    print(model)\n",
    "else:\n",
    "    print(\"The propositions are not satisfiable.\")"
   ]
  },
  {
   "cell_type": "markdown",
   "id": "67bb53df-e837-4966-9f47-84e31eaa4116",
   "metadata": {},
   "source": [
    "##### Étape 5 : Ajouter des Contraintes Supplémentaires\n",
    "- Ajouter une contrainte qui restreint certaines combinaisons, comme « si l'objet est vert, il ne peut pas être circulaire ».\n",
    "- Ajouter une autre contrainte où « les objets à pois ne peuvent pas être des véhicules »."
   ]
  },
  {
   "cell_type": "markdown",
   "id": "81681bcd-feef-492d-9dc7-0d34443fc2df",
   "metadata": {},
   "source": [
    "## Exercice 1.3 [★★]"
   ]
  },
  {
   "cell_type": "markdown",
   "id": "b54b9e96-b21b-439a-a0b6-f2cdfd75ee8f",
   "metadata": {},
   "source": [
    "Lire le fichier CSV `image_data.csv` et définir les attributs comme des variables Z3 en fonction des données du fichier. Encoder les propositions logiques et les contraintes en utilisant la logique du premier ordre pour chaque ligne, puis résoudre pour la satisfaisabilité."
   ]
  },
  {
   "cell_type": "code",
   "execution_count": null,
   "id": "079b2da9-13b7-464d-8f97-5dc6cde0e8ec",
   "metadata": {},
   "outputs": [],
   "source": [
    "import pandas as pd\n",
    "from z3 import *\n",
    "\n",
    "# Load CSV data\n",
    "df = pd.read_csv('../../data/image_data.csv')\n",
    "\n",
    "# Initialize Z3 solver\n",
    "solver = Solver()"
   ]
  },
  {
   "cell_type": "markdown",
   "id": "05b43f75-9462-4415-867f-4f5bfa7f723f",
   "metadata": {},
   "source": [
    "##### Étape 2 : Définir les Variables Z3 Dynamiquement à Partir des Données CSV\n",
    "Pour chaque ligne du CSV, définir les attributs comme des variables Z3 et s'assurer que les types sont cohérents."
   ]
  },
  {
   "cell_type": "code",
   "execution_count": null,
   "id": "7b97648d-80b0-4d29-b5ab-abd78f962218",
   "metadata": {},
   "outputs": [],
   "source": [
    "# Define Z3 variables for each attribute dynamically for each row\n",
    "for index, row in df.iterrows():\n",
    "    color = String(f'color_{index}')\n",
    "    shape = String(f'shape_{index}')\n",
    "    size = Int(f'size_{index}')\n",
    "    texture = String(f'texture_{index}')\n",
    "    classification = String(f'classification_{index}')\n",
    "    \n",
    "    # Add constraints for valid values\n",
    "    solver.add(Or(color == row['color'], shape == row['shape'], size == row['size'], texture == row['texture'], classification == row['classification']))\n"
   ]
  },
  {
   "cell_type": "markdown",
   "id": "cc3affce-47cb-43ea-a780-c84488aa47e4",
   "metadata": {},
   "source": [
    "#### Étape 3 : Encoder des Propositions en Logique du Premier Ordre\n",
    "- Écrire des propositions logiques pour chaque ligne, comme « si un objet est bleu et circulaire, alors il est classé comme un animal ».\n",
    "- Utiliser l'exercice 1.1 et ajouter des propositions supplémentaires."
   ]
  },
  {
   "cell_type": "code",
   "execution_count": null,
   "id": "0e4fab93-7a80-4a0e-9cde-bf05e9242e20",
   "metadata": {},
   "outputs": [],
   "source": [
    "# Example FOL for each row\n",
    "for index, row in df.iterrows():\n",
    "    expr1 = Implies(And(String(f'color_{index}') == \"blue\", String(f'shape_{index}') == \"circle\"), String(f'classification_{index}') == \"animal\")\n",
    "    solver.add(expr1)\n"
   ]
  },
  {
   "cell_type": "markdown",
   "id": "c561a15b-5ee8-4849-96b0-3b4e2b985773",
   "metadata": {},
   "source": [
    "#### Étape 4 : Résoudre pour la Satisfaisabilité\n",
    "Vérifier si les propositions logiques pour les données CSV sont satisfaisables."
   ]
  },
  {
   "cell_type": "markdown",
   "id": "fa8724f3-ff45-41c4-8082-68e3c3be1949",
   "metadata": {},
   "source": [
    "#### Étape 5 : Ajouter des Contraintes Supplémentaires\n",
    "- Inclure de nouvelles contraintes (par exemple, « les objets verts ne peuvent pas être circulaires ») et vérifier à nouveau le résultat."
   ]
  },
  {
   "cell_type": "code",
   "execution_count": null,
   "id": "449c1ddc-3b30-401e-85ef-0b142b2a41ba",
   "metadata": {},
   "outputs": [],
   "source": [
    "no_green_circle = Implies(String(f'color_{index}') == \"green\", String(f'shape_{index}') != \"circle\")\n",
    "solver.add(no_green_circle)"
   ]
  },
  {
   "cell_type": "markdown",
   "id": "57d2861f-5521-4e76-8097-095199ba55aa",
   "metadata": {},
   "source": [
    "#### Étape 6 : Introduire une Contrainte Insatisfaisable\n",
    "- Ajouter une contrainte conflictuelle qui force un objet à avoir deux attributs mutuellement exclusifs (par exemple, être à la fois bleu et rouge).\n",
    "- Vérifier la satisfaisabilité et montrer que le modèle devient insatisfaisable."
   ]
  },
  {
   "cell_type": "code",
   "execution_count": null,
   "id": "9aefa656-22bc-4e1e-8fbd-30a49617049b",
   "metadata": {},
   "outputs": [],
   "source": [
    "# Add a conflicting constraint: Object must be both blue and red (which is impossible)\n",
    "for index in range(len(df)):\n",
    "    conflicting_constraint = And(String(f'color_{index}') == \"blue\", String(f'color_{index}') == \"red\")\n",
    "    solver.add(conflicting_constraint)\n",
    "\n",
    "# Check satisfiability after adding the conflicting constraint\n",
    "if solver.check() == sat:\n",
    "    print(\"The propositions are still satisfiable.\")\n",
    "else:\n",
    "    print(\"The model is now unsatisfiable due to conflicting constraints.\")\n"
   ]
  },
  {
   "cell_type": "markdown",
   "id": "582e0b36-39be-4ec6-ade3-387b77f5f5b4",
   "metadata": {},
   "source": [
    "### Exercice 1.4 [★★]\n",
    "\n",
    "Téléchargez cette page Web de Wikipedia : [https://fr.wikipedia.org/wiki/Paris](https://fr.wikipedia.org/wiki/Paris) et enregistrez le fichier au format HTML. Analysez la page Wikipedia en extrayant et en comptant les mots, les liens, les images, les nombres, les dates, les noms propres et les données structurées à partir des tableaux, tout en différenciant les sections et les paragraphes. Cela implique de télécharger le HTML, de le parser et d'identifier systématiquement le contenu pertinent. Écrivez un programme pour mettre en œuvre ces tâches :\n",
    "\n",
    "1. **Télécharger le HTML** : Récupérer et enregistrer la page Wikipedia au format HTML.\n",
    "2. **Charger le Contenu** : Lire et parser le fichier HTML pour analyse.\n",
    "3. **Analyse des Mots** : Compter les occurrences de mots dans le texte.\n",
    "4. **Extraction des Liens** : Identifier et catégoriser les liens internes et externes.\n",
    "5. **Extraction d'Images** : Localiser les images et rassembler leurs URL et tailles.\n",
    "6. **Extraction de Nombres et de Dates** : Identifier les nombres, les dates et les coordonnées géographiques.\n",
    "7. **Noms Propres** : Extraire les noms de personnes et de lieux.\n",
    "8. **Données des Tableaux** : Localiser et extraire les données des tableaux.\n",
    "9. **Différenciation des Sections** : Identifier les sections et les paragraphes dans le contenu."
   ]
  },
  {
   "cell_type": "markdown",
   "id": "7f46833e-4bce-4dc9-8add-89f44a5c7492",
   "metadata": {},
   "source": [
    "#### Analyse de la Page Wikipedia : Paris\n",
    "\n",
    "Dans ce notebook, des tâches seront effectuées pour extraire et analyser divers éléments de la page Wikipedia de Paris.\n",
    "\n",
    "##### Étape 1 : Télécharger la Page HTML\n",
    "Tout d'abord, téléchargez le contenu HTML de la page Wikipedia spécifiée et enregistrez-le en tant que fichier HTML. Nous utilisons la bibliothèque `requests` pour gérer la requête HTTP. N'oubliez pas de vérifier le statut de la réponse pour confirmer que la page a été téléchargée avec succès."
   ]
  },
  {
   "cell_type": "code",
   "execution_count": null,
   "id": "7a0ab6df-7131-4d27-87de-ea431191a320",
   "metadata": {},
   "outputs": [],
   "source": [
    "import requests\n",
    "\n",
    "# URL of the Wikipedia page\n",
    "url = \"https://fr.wikipedia.org/wiki/Paris\"\n",
    "\n",
    "# Send a GET request to the URL\n",
    "response = requests.get(url)\n",
    "\n",
    "# Save the content as an HTML file\n",
    "with open(\"paris.html\", \"w\", encoding='utf-8') as file:\n",
    "    file.write(response.text)\n",
    "\n",
    "print(\"HTML page downloaded and saved as paris.html\")\n"
   ]
  },
  {
   "cell_type": "markdown",
   "id": "e5ebbfa5-7cff-41ab-818d-b94338ca42c5",
   "metadata": {},
   "source": [
    "##### Étape 2 : Charger le Contenu HTML\n",
    "Chargez le fichier HTML téléchargé pour une analyse plus approfondie.\n",
    "- **Commentaire** : Parser le HTML est crucial pour extraire des données. Assurez-vous d'utiliser une bibliothèque comme BeautifulSoup qui peut naviguer efficacement dans la structure HTML.\n",
    "\n",
    "Familiarisez-vous avec les méthodes de `BeautifulSoup` pour trouver des éléments dans le HTML, telles que `find()` et `find_all()`."
   ]
  },
  {
   "cell_type": "code",
   "execution_count": null,
   "id": "ef264ae1-81a0-4975-ae4c-b689d8103dc4",
   "metadata": {},
   "outputs": [],
   "source": [
    "from bs4 import BeautifulSoup\n",
    "\n",
    "# Load the HTML file\n",
    "with open(\"paris.html\", \"r\", encoding='utf-8') as file:\n",
    "    html_content = file.read()\n",
    "\n",
    "# Parse the HTML content using BeautifulSoup\n",
    "soup = BeautifulSoup(html_content, \"html.parser\")\n",
    "print(\"HTML content loaded.\")\n"
   ]
  },
  {
   "cell_type": "markdown",
   "id": "a8fe0893-327f-4da6-bd18-d17288d044e6",
   "metadata": {},
   "source": [
    "##### Étape 3 : Extraire et Analyser les Mots\n",
    "Comptez les occurrences de chaque mot sur la page.\n",
    "- **Commentaire** : Envisagez de normaliser le texte en le convertissant en minuscules pour éviter de compter le même mot en différentes majuscules séparément. Nous utilisons des expressions régulières pour filtrer efficacement les caractères non alphanumériques lors de la séparation du texte en mots."
   ]
  },
  {
   "cell_type": "code",
   "execution_count": null,
   "id": "b552f2d2-11ab-4f38-80b5-dbd900f20e2e",
   "metadata": {},
   "outputs": [],
   "source": [
    "from collections import Counter\n",
    "import re\n",
    "\n",
    "# Extract text from the HTML content\n",
    "text = soup.get_text()\n",
    "\n",
    "# Clean and split text into words\n",
    "words = re.findall(r'\\w+', text.lower())\n",
    "word_count = Counter(words)\n",
    "\n",
    "# Display the 10 most common words\n",
    "print(word_count.most_common(10))\n"
   ]
  },
  {
   "cell_type": "markdown",
   "id": "2b6c8782-5dfb-4bb2-a9f2-a10e365daf7b",
   "metadata": {},
   "source": [
    "##### Étape 4 : Extraire les Liens\n",
    "Identifiez tous les liens internes et externes de la page.\n",
    "\n",
    "- **Commentaire** : Comprendre la différence entre les liens internes et externes est important pour la catégorisation.\n",
    "- **Indice** : Vérifiez l'attribut `href` des balises d'ancrage (`<a>`) pour déterminer le type de lien."
   ]
  },
  {
   "cell_type": "markdown",
   "id": "6e7e9cae-5524-48cf-9801-25a3a5c89056",
   "metadata": {},
   "source": [
    "##### Étape 5 : Extraire les Images et Leurs Tailles\n",
    "Identifiez toutes les images sur la page et obtenez leurs tailles.\n",
    "\n",
    "- **Commentaire** : Soyez conscient que les images ne sont pas toujours stockées dans le même format. Assurez-vous de construire les bonnes URLs pour elles.\n",
    "- **Indice** : Vous devrez peut-être vérifier les attributs des balises `<img>` pour obtenir des informations supplémentaires, telles que la taille des images si disponible."
   ]
  },
  {
   "cell_type": "markdown",
   "id": "72b6cc74-d500-49d4-8e30-f7991d4e4fc6",
   "metadata": {},
   "source": [
    "##### Étape 6 : Extraire les Nombres, Dates et Coordonnées Géographiques\n",
    "Identifiez les nombres, dates et coordonnées géographiques dans le texte.\n",
    "\n",
    "- **Commentaire** : Différents formats pour les dates et les nombres peuvent compliquer l'extraction. Considérez les diverses manières dont ces éléments peuvent apparaître sur la page.\n",
    "- **Indice** : Utilisez des expressions régulières adaptées à des motifs spécifiques (par exemple, formats de date ou coordonnées géographiques) pour les identifier avec précision."
   ]
  },
  {
   "cell_type": "markdown",
   "id": "ab4af9aa-0e9f-4af0-8eca-7c8378d58779",
   "metadata": {},
   "source": [
    "##### Étape 7 : Identifier les Noms Propres\n",
    "Extraire les noms propres du texte.\n",
    "\n",
    "- **Commentaire** : Les noms propres peuvent inclure des noms de personnes, de lieux et d'organisations. Les identifier correctement peut améliorer votre analyse des données.\n",
    "- **Indice** : Utilisez des techniques de traitement du langage naturel (NLP), telles que la reconnaissance d'entités nommées, pour automatiser l'identification des noms propres."
   ]
  },
  {
   "cell_type": "markdown",
   "id": "2db0cd42-246a-4d82-9961-2ea425022141",
   "metadata": {},
   "source": [
    "##### Étape 8 : Extraire des Données Structurées (Tableaux)\n",
    "Identifiez et extrayez des données des tableaux présents dans le HTML.\n",
    "\n",
    "- **Commentaire** : Les tableaux contiennent souvent des données organisées qui peuvent être utiles pour l'analyse. Assurez-vous de capturer à la fois les cellules d'en-tête et les cellules de données.\n",
    "- **Indice** : Familiarisez-vous avec la structure des tableaux HTML, y compris comment naviguer dans les lignes (`<tr>`) et les cellules (`<td>` et `<th>`)."
   ]
  },
  {
   "cell_type": "markdown",
   "id": "91f435c3-a4c5-4855-9ed7-64ea1d677079",
   "metadata": {},
   "source": [
    "##### Étape 9 : Différencier les Sections et les Paragraphes\n",
    "Identifiez et séparez les sections et les paragraphes dans le contenu.\n",
    "\n",
    "- **Commentaire** : Les sections aident à comprendre l'organisation du contenu. Reconnaître les différents niveaux de titres peut faciliter la navigation dans le contenu.\n",
    "- **Indice** : Utilisez les balises appropriées (`<h1>`, `<h2>`, etc.) pour différencier les sections et assurez-vous de capturer leur contenu associé, comme les paragraphes."
   ]
  },
  {
   "cell_type": "markdown",
   "id": "dbf88902-eb38-4e12-947e-1a7a60979948",
   "metadata": {},
   "source": [
    "## Exercice 1.5 [★★★]\n",
    "Analysez le texte de la page Wikipedia téléchargée en appliquant le stemming, l'extraction d'n-grammes, l'étiquetage des parties du discours (PoS), la lemmatisation, l'analyse morphologique et la reconnaissance d'entités nommées. Comparez les résultats de NLTK et de spaCy pour évaluer leur efficacité dans les tâches d'analyse de texte."
   ]
  },
  {
   "cell_type": "markdown",
   "id": "c0da2ca0-e423-44d3-97f8-8141c3da6094",
   "metadata": {},
   "source": [
    "### Prérequis\n",
    "\n",
    "Assurez-vous d'avoir les bibliothèques nécessaires installées. Vous pouvez les installer en utilisant pip si ce n'est pas déjà fait :"
   ]
  },
  {
   "cell_type": "code",
   "execution_count": null,
   "id": "b195a028-5472-49b6-9960-4cb53b93b820",
   "metadata": {},
   "outputs": [],
   "source": [
    "!pip install nltk spacy gensim wordcloud seaborn"
   ]
  },
  {
   "cell_type": "code",
   "execution_count": null,
   "id": "c6ff3539-b477-455e-a197-a82cca04cbf0",
   "metadata": {},
   "outputs": [],
   "source": [
    "! python -m spacy download fr_core_news_sm  # For French language processing"
   ]
  },
  {
   "cell_type": "markdown",
   "id": "094eb7f3-92dc-4fc7-ba93-83e420cab4cf",
   "metadata": {},
   "source": [
    "#### Étape 1 : Charger la Page Wikipedia\n",
    "Commencez par charger le fichier HTML que vous avez enregistré précédemment et extraire le texte."
   ]
  },
  {
   "cell_type": "code",
   "execution_count": null,
   "id": "eb11a6e3-22f5-4d61-bf50-9ee8046a8b31",
   "metadata": {},
   "outputs": [],
   "source": [
    "from bs4 import BeautifulSoup\n",
    "\n",
    "# Load the HTML file\n",
    "with open(\"paris.html\", \"r\", encoding='utf-8') as file:\n",
    "    html_content = file.read()\n",
    "\n",
    "# Parse the HTML content\n",
    "soup = BeautifulSoup(html_content, \"html.parser\")\n",
    "text = soup.get_text()"
   ]
  },
  {
   "cell_type": "markdown",
   "id": "ac9be759-1767-488b-9a73-74b658182c20",
   "metadata": {},
   "source": [
    "#### Étape 2 : Appliquer des Algorithmes de Stemming\n",
    "Utilisez les stemmers Porter et Snowball de NLTK pour réduire les mots du texte à leur racine."
   ]
  },
  {
   "cell_type": "code",
   "execution_count": null,
   "id": "d41fab36-d89b-4892-9a8d-9ae75092d72d",
   "metadata": {},
   "outputs": [],
   "source": [
    "import nltk\n",
    "from nltk.stem import PorterStemmer, SnowballStemmer\n",
    "from collections import Counter\n",
    "import re\n",
    "\n",
    "# Tokenize and clean the text\n",
    "words = re.findall(r'\\w+', text.lower())\n",
    "\n",
    "# Initialize stemmers\n",
    "porter_stemmer = PorterStemmer()\n",
    "snowball_stemmer = SnowballStemmer(\"english\")\n",
    "\n",
    "# Apply stemming\n",
    "porter_stems = [porter_stemmer.stem(word) for word in words]\n",
    "snowball_stems = [snowball_stemmer.stem(word) for word in words]\n",
    "\n",
    "# Count unique stems\n",
    "porter_stem_count = Counter(porter_stems)\n",
    "snowball_stem_count = Counter(snowball_stems)\n",
    "\n",
    "# Display the most common stems and count of unique stems\n",
    "print(\"Most common Porter stems:\", porter_stem_count.most_common(10))\n",
    "print(\"Unique Porter stems count:\", len(porter_stem_count))\n",
    "\n",
    "print(\"Most common Snowball stems:\", snowball_stem_count.most_common(10))\n",
    "print(\"Unique Snowball stems count:\", len(snowball_stem_count))"
   ]
  },
  {
   "cell_type": "markdown",
   "id": "2edb693d-03b9-45b5-9f20-ce0d251bca00",
   "metadata": {},
   "source": [
    "#### Étape 3 : Extraire des N-grammes\n",
    "Générez et affichez les n-grammes les plus courants (1-grammes à 5-grammes) du texte."
   ]
  },
  {
   "cell_type": "markdown",
   "id": "02c7ce8f-84be-408e-aa62-8e3f0f4548a8",
   "metadata": {},
   "source": [
    "#### Étape 4 : Étiquetage des Parties du Discours (PoS)\n",
    "Utilisez NLTK ou spaCy pour effectuer l'étiquetage des parties du discours sur le texte."
   ]
  },
  {
   "cell_type": "markdown",
   "id": "083c6f0f-0cd2-411f-bf28-c62f94c6b144",
   "metadata": {},
   "source": [
    "#### Étape 5 : Lemmatisation\n",
    "Appliquez la lemmatisation en utilisant NLTK ou spaCy."
   ]
  },
  {
   "cell_type": "markdown",
   "id": "f19c3ad7-1c56-46f0-a23f-14457c7bb3ba",
   "metadata": {},
   "source": [
    "#### Étape 6 : Analyse Morphologique\n",
    "Utilisez spaCy pour effectuer une analyse morphologique sur le texte."
   ]
  },
  {
   "cell_type": "markdown",
   "id": "069c24ae-c334-48e4-8831-5e14451677ab",
   "metadata": {},
   "source": [
    "#### Étape 7 : Reconnaissance d'Entités Nommées (NER)\n",
    "Utilisez spaCy pour identifier les entités nommées dans le texte."
   ]
  },
  {
   "cell_type": "markdown",
   "id": "fd3b8c1d-4cd8-490d-9560-15b8d2fe949f",
   "metadata": {},
   "source": [
    "#### Étape 8 : Distribution de Fréquence des Mots\n",
    "Visualisez la distribution de fréquence des mots à l'aide de Matplotlib."
   ]
  },
  {
   "cell_type": "markdown",
   "id": "f386cadd-d6cb-4a86-8509-21f14fb9c813",
   "metadata": {},
   "source": [
    "#### Étape 9 : Créer un Nuage de Mots\n",
    "\n",
    "Générez un nuage de mots pour visualiser les mots les plus fréquents."
   ]
  },
  {
   "cell_type": "markdown",
   "id": "304f7f68-00b8-43d6-963e-d7b754859341",
   "metadata": {},
   "source": [
    "#### Étape 10 : Visualisation des Entités Nommées\n",
    "\n",
    "Visualisez les entités nommées reconnues dans le texte à l'aide de Matplotlib."
   ]
  },
  {
   "cell_type": "markdown",
   "id": "2a4f5a7b-84fe-4b13-ab15-cb0979fc5860",
   "metadata": {},
   "source": [
    "#### Étape 11 : Visualisation des Noms les Plus Courants\n",
    "\n",
    "Visualisez les noms les plus courants dans le texte, ce qui peut fournir des informations sur les principaux sujets abordés."
   ]
  }
 ],
 "metadata": {
  "kernelspec": {
   "display_name": "Python 3 (ipykernel)",
   "language": "python",
   "name": "python3"
  },
  "language_info": {
   "codemirror_mode": {
    "name": "ipython",
    "version": 3
   },
   "file_extension": ".py",
   "mimetype": "text/x-python",
   "name": "python",
   "nbconvert_exporter": "python",
   "pygments_lexer": "ipython3",
   "version": "3.10.12"
  }
 },
 "nbformat": 4,
 "nbformat_minor": 5
}
