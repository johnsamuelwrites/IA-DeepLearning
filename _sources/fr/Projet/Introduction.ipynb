{
 "cells": [
  {
   "cell_type": "markdown",
   "metadata": {
    "id": "QSg47cr63fos"
   },
   "source": [
    "# Working with Tensorflow and Tensorflow datasets\n",
    "\n"
   ]
  },
  {
   "cell_type": "code",
   "execution_count": null,
   "metadata": {
    "id": "_oARUimrcLtc"
   },
   "outputs": [],
   "source": [
    "import tensorflow as tf\n",
    "\n",
    "import tensorflow_datasets as tfds"
   ]
  },
  {
   "cell_type": "markdown",
   "metadata": {
    "id": "UGcG-2K1dpTC"
   },
   "source": [
    "List all the available datasets"
   ]
  },
  {
   "cell_type": "code",
   "execution_count": null,
   "metadata": {
    "colab": {
     "base_uri": "https://localhost:8080/"
    },
    "id": "ndp9DFC1dl91",
    "outputId": "53d003ed-89cc-4a59-d905-07ed18bd4dab"
   },
   "outputs": [],
   "source": [
    "tfds.list_builders()\n"
   ]
  },
  {
   "cell_type": "markdown",
   "metadata": {
    "id": "-tsN7n0K8YML"
   },
   "source": [
    "# Dataset Information "
   ]
  },
  {
   "cell_type": "markdown",
   "metadata": {
    "id": "Ma5OSiFe8eT4"
   },
   "source": [
    "We will first use `tfds.builder` to obtain information related to a dataset like MNIST. Take a look at the available information for this dataset, especially the available features (`features`) and the total number of examples (`total_num_examples`).\n"
   ]
  },
  {
   "cell_type": "code",
   "execution_count": null,
   "metadata": {
    "colab": {
     "base_uri": "https://localhost:8080/"
    },
    "id": "50MMoH7c8O5R",
    "outputId": "78a91774-9681-415d-ed36-9e9338f827ec"
   },
   "outputs": [],
   "source": [
    "builder = tfds.builder('mnist')\n",
    "print(builder.info)"
   ]
  },
  {
   "cell_type": "markdown",
   "metadata": {
    "id": "LyykFgzvBaqR"
   },
   "source": [
    "## Features"
   ]
  },
  {
   "cell_type": "code",
   "execution_count": null,
   "metadata": {
    "colab": {
     "base_uri": "https://localhost:8080/"
    },
    "id": "uALXOVk-AWNy",
    "outputId": "45f05dd8-b06a-499c-f830-1d4c5abc06c9"
   },
   "outputs": [],
   "source": [
    "builder = tfds.builder('mnist')\n",
    "print(builder.info.features)"
   ]
  },
  {
   "cell_type": "markdown",
   "metadata": {
    "id": "JfyF8POtBS85"
   },
   "source": [
    "### Label details"
   ]
  },
  {
   "cell_type": "code",
   "execution_count": null,
   "metadata": {
    "colab": {
     "base_uri": "https://localhost:8080/"
    },
    "id": "uExdhEB-AfBc",
    "outputId": "b63594e9-2c2a-4d81-a611-f2cd3fb4ada1"
   },
   "outputs": [],
   "source": [
    "builder = tfds.builder('mnist')\n",
    "\n",
    "#Number of classes\n",
    "print(builder.info.features[\"label\"].num_classes)\n",
    "\n",
    "# Class names\n",
    "print(builder.info.features[\"label\"].names)\n",
    "\n",
    "# Get the number equiavalent to a label\n",
    "print(builder.info.features[\"label\"].str2int('8'))\n",
    "\n",
    "#shape \n",
    "print(builder.info.features.shape)\n",
    "\n",
    "#type of label\n",
    "print(builder.info.features[\"label\"].dtype)"
   ]
  },
  {
   "cell_type": "markdown",
   "metadata": {
    "id": "uKE3mUV6BrUH"
   },
   "source": [
    "### Features of different datasets"
   ]
  },
  {
   "cell_type": "markdown",
   "metadata": {
    "id": "Rk8Eu8LuCfvn"
   },
   "source": [
    "Remove the `break` from the following code and see the available features from the different datasets."
   ]
  },
  {
   "cell_type": "code",
   "execution_count": null,
   "metadata": {
    "colab": {
     "base_uri": "https://localhost:8080/"
    },
    "id": "XySA0Tqv9qKH",
    "outputId": "bb632ff0-e964-40a0-f6bd-731e58dde150"
   },
   "outputs": [],
   "source": [
    "for dataset in tfds.list_builders():\n",
    "  builder = tfds.builder(dataset)\n",
    "  print(f\"Name: {{0}}\\n description: {{1}}\".format(builder.info.name, builder.info.description))\n",
    "  print(f\"Name: {{0}}\".format(builder.info.features))\n",
    "  break"
   ]
  },
  {
   "cell_type": "markdown",
   "metadata": {
    "id": "wWq9Ozqw9RUX"
   },
   "source": [
    "## Loading a dataset"
   ]
  },
  {
   "cell_type": "markdown",
   "metadata": {
    "id": "gpHaFqbSwXrt"
   },
   "source": [
    "Let's start with loading the MNIST dataset for handwriting recognition\n"
   ]
  },
  {
   "cell_type": "code",
   "execution_count": null,
   "metadata": {
    "colab": {
     "base_uri": "https://localhost:8080/"
    },
    "id": "Tk8NODa-waKW",
    "outputId": "1939eab7-2ba5-413c-9d23-7e16227e1068"
   },
   "outputs": [],
   "source": [
    "ds = tfds.load('mnist', split='train', shuffle_files=True, try_gcs=True)\n",
    "assert isinstance(ds, tf.data.Dataset)\n",
    "print(ds)\n"
   ]
  },
  {
   "cell_type": "markdown",
   "metadata": {
    "id": "aEt-VWfEw1hm"
   },
   "source": [
    "Iterate over a dataset. Each entry in the dataset has 2 parts: image of a handwritten digit and the associated label."
   ]
  },
  {
   "cell_type": "code",
   "execution_count": null,
   "metadata": {
    "colab": {
     "base_uri": "https://localhost:8080/"
    },
    "id": "qUultMBXw3nn",
    "outputId": "42d642f0-f287-43ac-bf00-346ab53ef77f"
   },
   "outputs": [],
   "source": [
    "for example in ds:  # example is `{'image': tf.Tensor, 'label': tf.Tensor}`\n",
    "  print(list(example.keys()))\n",
    "  image = example[\"image\"]\n",
    "  label = example[\"label\"]\n",
    "  print(image.shape, label)\n",
    "  break\n"
   ]
  },
  {
   "cell_type": "markdown",
   "metadata": {
    "id": "LQ6iP7mmxRON"
   },
   "source": [
    "Obtain a tuple"
   ]
  },
  {
   "cell_type": "code",
   "execution_count": null,
   "metadata": {
    "colab": {
     "base_uri": "https://localhost:8080/"
    },
    "id": "TReODrtYxKV2",
    "outputId": "54fb576a-dc70-4dea-f273-61519170b16f"
   },
   "outputs": [],
   "source": [
    "ds = tfds.load('mnist', split='train',  as_supervised=True, try_gcs=True)\n",
    "\n",
    "for image, label in ds:  # example is (image, label)\n",
    "  print(label)\n",
    "  break\n"
   ]
  },
  {
   "cell_type": "markdown",
   "metadata": {
    "id": "WsFXFF5_63kb"
   },
   "source": [
    "## Visualization"
   ]
  },
  {
   "cell_type": "markdown",
   "metadata": {
    "id": "pwVZyoe84qrX"
   },
   "source": [
    "Another way is to use `take()` and pass a number **n** to select **n** examples from the dataset. Passing `with_info` with True helps to create the dataframe with necessary information for the visualization. Try changing the value of `with_info` to False and see the errors. "
   ]
  },
  {
   "cell_type": "code",
   "execution_count": null,
   "metadata": {
    "colab": {
     "base_uri": "https://localhost:8080/",
     "height": 76
    },
    "id": "V0H7pMvCytvS",
    "outputId": "d2d65fab-0683-4705-c0b2-133c1e953c0d"
   },
   "outputs": [],
   "source": [
    "ds, info = tfds.load('mnist', split='train', with_info=True, try_gcs=True)\n",
    "\n",
    "tfds.as_dataframe(ds.take(1), info)\n"
   ]
  },
  {
   "cell_type": "markdown",
   "metadata": {
    "id": "tBJIf3AZ5Qae"
   },
   "source": [
    "Change the parameter value of `ds.take()`."
   ]
  },
  {
   "cell_type": "code",
   "execution_count": null,
   "metadata": {
    "colab": {
     "base_uri": "https://localhost:8080/",
     "height": 399
    },
    "id": "kT3IV1gB5M_-",
    "outputId": "fca6998d-6c43-497c-83a5-7edf22947115"
   },
   "outputs": [],
   "source": [
    "ds, info = tfds.load('mnist', split='train', with_info=True, try_gcs=True)\n",
    "\n",
    "tfds.as_dataframe(ds.take(10), info)\n"
   ]
  },
  {
   "cell_type": "markdown",
   "metadata": {
    "id": "JQ4-Jv6Q7AQM"
   },
   "source": [
    "## Splitting datasets for training and testing"
   ]
  },
  {
   "cell_type": "markdown",
   "metadata": {
    "id": "H0BOVQpQ6OtI"
   },
   "source": [
    "For tasks like classification, it is important to classify the data for training and testing. There are several ways it can be done. In the following example, we display the information of the dataset after the loading of the dataset. Take a look at different information like features, splits, total_num_examples etc."
   ]
  },
  {
   "cell_type": "code",
   "execution_count": null,
   "metadata": {
    "colab": {
     "base_uri": "https://localhost:8080/"
    },
    "id": "Ef0C5xrjyxf3",
    "outputId": "3ee2a513-096f-417d-9e83-f0b547a589a0"
   },
   "outputs": [],
   "source": [
    "(ds_train, ds_test), info = tfds.load('mnist', split=['train', 'test'], with_info=True)\n",
    "print(info)"
   ]
  },
  {
   "cell_type": "markdown",
   "metadata": {
    "id": "5CxlvbSNNrbB"
   },
   "source": [
    "To create a training dataset from the first 80% of the training split."
   ]
  },
  {
   "cell_type": "code",
   "execution_count": null,
   "metadata": {
    "id": "WkGbHUbwMrvN"
   },
   "outputs": [],
   "source": [
    "ds_train, info = tfds.load('mnist', split='train[80%:]', with_info=True)"
   ]
  },
  {
   "cell_type": "markdown",
   "metadata": {
    "id": "dboDtsqti301"
   },
   "source": [
    "## Applying modifications"
   ]
  },
  {
   "cell_type": "code",
   "execution_count": null,
   "metadata": {
    "id": "gYV99jTui69U"
   },
   "outputs": [],
   "source": [
    "def normalize_img(image, label):\n",
    "  \"\"\"Normalizes images: `uint8` -> `float32`.\"\"\"\n",
    "  return tf.cast(image, tf.float32) / 255., label\n",
    "\n",
    "(ds_train, ds_test), info = tfds.load('mnist', split=['train', 'test'],  as_supervised=True, with_info=True)\n",
    "ds_train = ds_train.map(normalize_img)\n",
    "ds_test = ds_test.map(normalize_img)"
   ]
  },
  {
   "cell_type": "markdown",
   "metadata": {
    "id": "j55nfZgvLikn"
   },
   "source": [
    "## Batches"
   ]
  },
  {
   "cell_type": "markdown",
   "metadata": {
    "id": "LEcxtMTZOgkw"
   },
   "source": [
    "For testing and training, it is important to create batches. Make use of `batch()` for creating batches of the specified size. For example, the code below will create batches of 128 samples."
   ]
  },
  {
   "cell_type": "code",
   "execution_count": null,
   "metadata": {
    "colab": {
     "base_uri": "https://localhost:8080/"
    },
    "id": "4URL5ff-MeNI",
    "outputId": "9c76b565-618f-4d12-88e2-332af7aa9905"
   },
   "outputs": [],
   "source": [
    "(ds_train, ds_test), info = tfds.load('mnist', split=['train', 'test'],  as_supervised=True, with_info=True)\n",
    "ds_train = ds_train.batch(128)\n",
    "ds_test = ds_test.batch(128)\n",
    "print(ds_train)\n",
    "print(ds_test)"
   ]
  },
  {
   "cell_type": "markdown",
   "metadata": {
    "id": "1FLUOuXSjiDZ"
   },
   "source": [
    "## Building a training model"
   ]
  },
  {
   "cell_type": "code",
   "execution_count": null,
   "metadata": {
    "id": "6NJzoz8kjlzb"
   },
   "outputs": [],
   "source": [
    "model = tf.keras.models.Sequential([\n",
    "  tf.keras.layers.Flatten(input_shape=info.features[\"image\"].shape),\n",
    "  tf.keras.layers.Dense(128,activation='relu'),\n",
    "  tf.keras.layers.Dense(10, activation='softmax')\n",
    "])\n",
    "\n",
    "model.compile(\n",
    "    loss='sparse_categorical_crossentropy',\n",
    "    optimizer=tf.keras.optimizers.Adam(0.001),\n",
    "    metrics=['accuracy'],\n",
    ")\n"
   ]
  },
  {
   "cell_type": "markdown",
   "metadata": {
    "id": "4DLUr6ukSmsi"
   },
   "source": [
    "## Model Summary"
   ]
  },
  {
   "cell_type": "code",
   "execution_count": null,
   "metadata": {
    "colab": {
     "base_uri": "https://localhost:8080/"
    },
    "id": "gtX_Xa7KSqbE",
    "outputId": "cfb49254-619c-4e5b-e3fb-0518159777d1"
   },
   "outputs": [],
   "source": [
    "print(model.summary())"
   ]
  },
  {
   "cell_type": "markdown",
   "metadata": {
    "id": "EaLSdfGETv57"
   },
   "source": [
    "## Visualizing the model"
   ]
  },
  {
   "cell_type": "code",
   "execution_count": null,
   "metadata": {
    "colab": {
     "base_uri": "https://localhost:8080/",
     "height": 422
    },
    "id": "ugCTLdFHTo05",
    "outputId": "bcf5c13a-1d7b-4d48-bd6f-092c73447439"
   },
   "outputs": [],
   "source": [
    "from tensorflow.keras.utils import plot_model\n",
    "plot_model(model, show_shapes=True)"
   ]
  },
  {
   "cell_type": "markdown",
   "metadata": {
    "id": "Sr3MLd-8jup_"
   },
   "source": [
    "## Training"
   ]
  },
  {
   "cell_type": "code",
   "execution_count": null,
   "metadata": {
    "colab": {
     "base_uri": "https://localhost:8080/"
    },
    "id": "0Vv1YxNox19H",
    "outputId": "99871ac2-1bc6-47ef-85a3-180b9a50b1cc"
   },
   "outputs": [],
   "source": [
    "history = model.fit(ds_train, epochs=10, batch_size=10,validation_data=ds_test)"
   ]
  },
  {
   "cell_type": "markdown",
   "metadata": {
    "id": "TYF802_hW5LD"
   },
   "source": [
    "## History of training"
   ]
  },
  {
   "cell_type": "code",
   "execution_count": null,
   "metadata": {
    "colab": {
     "base_uri": "https://localhost:8080/"
    },
    "id": "w-pxj6TeUd1s",
    "outputId": "2fef282f-20ec-4185-b904-8855e2be6084"
   },
   "outputs": [],
   "source": [
    "# list different data in history\n",
    "for histinfo in history.history.keys():\n",
    "  print(f\"{histinfo}: {{0}}\".format(history.history[histinfo]))"
   ]
  },
  {
   "cell_type": "markdown",
   "metadata": {
    "id": "6EgFADOmW-fW"
   },
   "source": [
    "Visualizing the history"
   ]
  },
  {
   "cell_type": "code",
   "execution_count": null,
   "metadata": {
    "colab": {
     "base_uri": "https://localhost:8080/",
     "height": 313
    },
    "id": "gMiBoXMpXB5i",
    "outputId": "ae980f74-b164-4484-93fe-987072d5fbdb"
   },
   "outputs": [],
   "source": [
    "import matplotlib.pyplot as plot\n",
    "\n",
    "plot.plot(history.history[\"accuracy\"], label=\"Training\")\n",
    "plot.plot(history.history[\"val_accuracy\"], label=\"Validation\")\n",
    "plot.legend(loc=\"upper left\")\n",
    "plot.ylabel(\"Accuracy\")\n",
    "plot.xlabel(\"Number of Epochs\")\n",
    "plot.title(\"History of Training and Validation Accuracy across epochs\")"
   ]
  },
  {
   "cell_type": "code",
   "execution_count": null,
   "metadata": {
    "colab": {
     "base_uri": "https://localhost:8080/",
     "height": 313
    },
    "id": "NQpQjdloYbrQ",
    "outputId": "e5006d85-4bcb-4bf3-e674-b1e02eb44466"
   },
   "outputs": [],
   "source": [
    "plot.plot(history.history[\"loss\"], label=\"Training\")\n",
    "plot.plot(history.history[\"val_loss\"], label=\"Validation\")\n",
    "plot.legend(loc=\"upper left\")\n",
    "plot.ylabel(\"Loss\")\n",
    "plot.xlabel(\"Number of Epochs\")\n",
    "plot.title(\"History of Training and Validation Loss across epochs\")"
   ]
  },
  {
   "cell_type": "code",
   "execution_count": null,
   "metadata": {
    "colab": {
     "base_uri": "https://localhost:8080/"
    },
    "id": "3B5VFH7mRs3x",
    "outputId": "b5dc75f6-ec96-4216-d641-afd1f76ff587"
   },
   "outputs": [],
   "source": [
    "loss, accuracy = model.evaluate(ds_test, verbose=0)\n",
    "print(f\"accuracy: {accuracy} and loss:{loss}\")"
   ]
  },
  {
   "cell_type": "markdown",
   "metadata": {
    "id": "OeNx3CGhhDxJ"
   },
   "source": [
    "## Prediction"
   ]
  },
  {
   "cell_type": "code",
   "execution_count": null,
   "metadata": {
    "id": "LcPIyk7jhGy6"
   },
   "outputs": [],
   "source": [
    "# Creating a dataset for testing\n",
    "ds_test = tfds.load('mnist', split='test[20%:]',  as_supervised=True, shuffle_files=True)\n",
    "\n",
    "# Creating a probability model for different classes for obtaining the probabilty\n",
    "# for each class\n",
    "probability_model = tf.keras.Sequential([model, tf.keras.layers.Softmax()])\n",
    "\n",
    "# Creating batches\n",
    "ds_test_batch = ds_test.batch(128)\n",
    "\n",
    "# Prediction\n",
    "predictions = probability_model.predict(ds_test_batch)\n"
   ]
  },
  {
   "cell_type": "markdown",
   "metadata": {
    "id": "6ZPWEErwQX_-"
   },
   "source": [
    "Obtaining the number of predictions made"
   ]
  },
  {
   "cell_type": "code",
   "execution_count": null,
   "metadata": {
    "colab": {
     "base_uri": "https://localhost:8080/"
    },
    "id": "ELjdxvoAhUJZ",
    "outputId": "79c7cf6c-8645-44bf-d152-20dfe355429a"
   },
   "outputs": [],
   "source": [
    "print(len(predictions))"
   ]
  },
  {
   "cell_type": "markdown",
   "metadata": {
    "id": "286P2QrZQhz5"
   },
   "source": [
    "Check the probability values for second prediction"
   ]
  },
  {
   "cell_type": "code",
   "execution_count": null,
   "metadata": {
    "colab": {
     "base_uri": "https://localhost:8080/"
    },
    "id": "GU0RsvWWQg0s",
    "outputId": "fcf215fd-a3cc-4605-c771-71fe6e140ff5"
   },
   "outputs": [],
   "source": [
    "print(predictions[1])"
   ]
  },
  {
   "cell_type": "markdown",
   "metadata": {
    "id": "4eU-4rsCQuXM"
   },
   "source": [
    "Get the class with the highest probability"
   ]
  },
  {
   "cell_type": "code",
   "execution_count": null,
   "metadata": {
    "colab": {
     "base_uri": "https://localhost:8080/"
    },
    "id": "jYXxzKb1hZpi",
    "outputId": "9f9cc10d-161c-4f3b-d775-01670565e283"
   },
   "outputs": [],
   "source": [
    "import numpy as np\n",
    "print(np.argmax(predictions[1]))\n"
   ]
  },
  {
   "cell_type": "markdown",
   "metadata": {
    "id": "e1-z03JTQ4u7"
   },
   "source": [
    "Get the class with the highest probability for all the classes"
   ]
  },
  {
   "cell_type": "code",
   "execution_count": null,
   "metadata": {
    "id": "uRGFuq3Wri-y"
   },
   "outputs": [],
   "source": [
    "predictedlabels = [np.argmax(predictions[i]) for i in range(len(predictions))]"
   ]
  },
  {
   "cell_type": "markdown",
   "metadata": {
    "id": "I-QxeheRRGVs"
   },
   "source": [
    "Get the actual class or label from the test dataset."
   ]
  },
  {
   "cell_type": "code",
   "execution_count": null,
   "metadata": {
    "colab": {
     "base_uri": "https://localhost:8080/"
    },
    "id": "uVa0jpkfiXm0",
    "outputId": "b121595a-8be0-46f2-e747-ab59f74f7bf2"
   },
   "outputs": [],
   "source": [
    "data = ds_test.as_numpy_iterator()\n",
    "testdata = list(data)\n",
    "labels = [testdata[i][1] for i in range(len(testdata))]\n",
    "print(labels[1])"
   ]
  },
  {
   "cell_type": "markdown",
   "metadata": {
    "id": "tUFpVcrrRR4l"
   },
   "source": [
    "Evaluate the prediction using a confusion matrix"
   ]
  },
  {
   "cell_type": "code",
   "execution_count": null,
   "metadata": {
    "colab": {
     "base_uri": "https://localhost:8080/"
    },
    "id": "yWzcybfJrPkM",
    "outputId": "ffd2f325-9798-4f13-f526-f6d1db682f39"
   },
   "outputs": [],
   "source": [
    "confusionmatrix = tf.math.confusion_matrix(labels, predictedlabels, num_classes=10)\n",
    "print(confusionmatrix)"
   ]
  },
  {
   "cell_type": "markdown",
   "metadata": {
    "id": "_YCgyrrwRZXD"
   },
   "source": [
    "Visualizing the confusion matrix"
   ]
  },
  {
   "cell_type": "code",
   "execution_count": null,
   "metadata": {
    "colab": {
     "base_uri": "https://localhost:8080/",
     "height": 283
    },
    "id": "RPFJohG3s4Hg",
    "outputId": "9ec15721-e8f5-4291-f841-981e2890d9bb"
   },
   "outputs": [],
   "source": [
    "import seaborn as sn\n",
    "\n",
    "sn.heatmap(confusionmatrix)"
   ]
  }
 ],
 "metadata": {
  "colab": {
   "collapsed_sections": [],
   "name": "Introduction.ipynb",
   "provenance": []
  },
  "kernelspec": {
   "display_name": "Python 3",
   "language": "python",
   "name": "python3"
  },
  "language_info": {
   "codemirror_mode": {
    "name": "ipython",
    "version": 3
   },
   "file_extension": ".py",
   "mimetype": "text/x-python",
   "name": "python",
   "nbconvert_exporter": "python",
   "pygments_lexer": "ipython3",
   "version": "3.10.6"
  }
 },
 "nbformat": 4,
 "nbformat_minor": 4
}
