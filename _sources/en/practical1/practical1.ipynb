{
 "cells": [
  {
   "cell_type": "markdown",
   "id": "a3b68110-20a2-4871-a913-80f1525526e3",
   "metadata": {},
   "source": [
    "# Installation of Packages\n",
    "\n",
    "First install packages like numpy, scikit-learn, matplotlib"
   ]
  },
  {
   "cell_type": "code",
   "execution_count": null,
   "id": "f23e4297-a26e-4aef-b990-9fd60852214e",
   "metadata": {},
   "outputs": [],
   "source": [
    "!pip install numpy scikit-learn matplotlib"
   ]
  },
  {
   "cell_type": "markdown",
   "id": "72e9c185",
   "metadata": {},
   "source": [
    "## Complex Numbers\n",
    "\n",
    "A complex number $z$ is represented by $z = x + j* y$, where $x$ and $y$ are real numbers."
   ]
  },
  {
   "cell_type": "code",
   "execution_count": null,
   "id": "a2c075ff",
   "metadata": {},
   "outputs": [],
   "source": [
    "c1 = complex(0, 0)\n",
    "\n",
    "print(c1)"
   ]
  },
  {
   "cell_type": "code",
   "execution_count": null,
   "id": "3c22d052",
   "metadata": {},
   "outputs": [],
   "source": [
    "x = 2\n",
    "y = 3\n",
    "c2 = complex(x, y)\n",
    "\n",
    "print(c2)"
   ]
  },
  {
   "cell_type": "markdown",
   "id": "f4721a68",
   "metadata": {},
   "source": [
    "### Absolute value\n",
    "\n",
    "Absolute value of a complex number $z  = x + j* y$ is obtained by the formula $\\sqrt {(x^2 + y^2)}$"
   ]
  },
  {
   "cell_type": "code",
   "execution_count": null,
   "id": "55361d5a",
   "metadata": {},
   "outputs": [],
   "source": [
    "from math import sqrt\n",
    "\n",
    "absc2 = sqrt(x**2 + y**2)\n",
    "print(absc2)"
   ]
  },
  {
   "cell_type": "markdown",
   "id": "a55d7e4f",
   "metadata": {},
   "source": [
    "Another way is to use the function $abs()$."
   ]
  },
  {
   "cell_type": "code",
   "execution_count": null,
   "id": "fd80f3e3",
   "metadata": {},
   "outputs": [],
   "source": [
    "absc2 = abs(c2)\n",
    "print(absc2)"
   ]
  },
  {
   "cell_type": "code",
   "execution_count": null,
   "id": "a21c65b7",
   "metadata": {},
   "outputs": [],
   "source": [
    "absc1 = abs(c1)\n",
    "print(absc1)"
   ]
  },
  {
   "cell_type": "markdown",
   "id": "79020cdd",
   "metadata": {},
   "source": [
    "## Evenly spaced numbers"
   ]
  },
  {
   "cell_type": "code",
   "execution_count": null,
   "id": "a5a3fbff",
   "metadata": {},
   "outputs": [],
   "source": [
    "import numpy as np\n",
    "\n",
    "np.linspace(1.0, 5.0, num=5)"
   ]
  },
  {
   "cell_type": "code",
   "execution_count": null,
   "id": "237c0856",
   "metadata": {},
   "outputs": [],
   "source": [
    "import numpy as np\n",
    "\n",
    "np.linspace(1.0, 5.0, num=10)"
   ]
  },
  {
   "cell_type": "markdown",
   "id": "d8afff45",
   "metadata": {},
   "source": [
    "# Mean"
   ]
  },
  {
   "cell_type": "markdown",
   "id": "cad1e7ed",
   "metadata": {},
   "source": [
    "## Arithmetic mean"
   ]
  },
  {
   "cell_type": "markdown",
   "id": "e176c2e9",
   "metadata": {},
   "source": [
    "If  $a_1, a_2, \\ldots, a_n$ are numbers, then the arithmetic mean is obtained by: \n",
    "\n",
    "$$A=\\frac{1}{n}\\sum_{i=1}^n a_i=\\frac{a_1+a_2+\\cdots+a_n}{n}$$"
   ]
  },
  {
   "cell_type": "code",
   "execution_count": null,
   "id": "85b81b4e",
   "metadata": {},
   "outputs": [],
   "source": [
    "num = np.linspace(1.0, 100.0, num=100)\n",
    "\n",
    "a = np.mean(num)\n",
    "print(a)"
   ]
  },
  {
   "cell_type": "markdown",
   "id": "a1e9048f",
   "metadata": {},
   "source": [
    "## Geometric Mean"
   ]
  },
  {
   "cell_type": "code",
   "execution_count": null,
   "id": "4d6f19fa",
   "metadata": {},
   "outputs": [],
   "source": [
    "from scipy.stats import gmean\n",
    "\n",
    "g = gmean(num)\n",
    "print(g)"
   ]
  },
  {
   "cell_type": "markdown",
   "id": "b98dcd67",
   "metadata": {},
   "source": [
    "If  $a_1, a_2, \\ldots, a_n$ are numbers, then the arithmetic mean is obtained by: \n",
    "\n",
    "$$\\left(\\prod_{i=1}^n a_i\\right)^\\frac{1}{n} = \\sqrt[n]{a_1 a_2 \\cdots a_n}$$"
   ]
  },
  {
   "cell_type": "markdown",
   "id": "e37c4706",
   "metadata": {},
   "source": [
    "If  $a_1, a_2, \\ldots, a_n$ are numbers, then the harmonic mean is obtained by: \n",
    "\n",
    "$$H = \\frac{n}{\\frac1{a_1} + \\frac1{a_2} + \\cdots + \\frac1{a_n}} = \\frac{n}{\\sum\\limits_{i=1}^n \\frac1{a_i}} = \\left(\\frac{\\sum\\limits_{i=1}^n a_i^{-1}}{n}\\right)^{-1}.$$"
   ]
  },
  {
   "cell_type": "markdown",
   "id": "d6e6f3de",
   "metadata": {},
   "source": [
    "## Harmonic Mean"
   ]
  },
  {
   "cell_type": "code",
   "execution_count": null,
   "id": "2ba017ce",
   "metadata": {},
   "outputs": [],
   "source": [
    "from scipy.stats import hmean\n",
    "\n",
    "h = hmean(num)\n",
    "print(h)"
   ]
  },
  {
   "cell_type": "markdown",
   "id": "79b5fa9f",
   "metadata": {},
   "source": [
    "# Classification"
   ]
  },
  {
   "cell_type": "markdown",
   "id": "1016d431",
   "metadata": {},
   "source": [
    "## Understanding IRIS dataset"
   ]
  },
  {
   "cell_type": "code",
   "execution_count": null,
   "id": "6a6ded12",
   "metadata": {},
   "outputs": [],
   "source": [
    "from sklearn.datasets import load_iris\n",
    "\n",
    "data = load_iris()\n",
    "\n",
    "# Target Classes and Names\n",
    "for target, name in enumerate(data.target_names):\n",
    "    print(target, name)"
   ]
  },
  {
   "cell_type": "code",
   "execution_count": null,
   "id": "fd47b004",
   "metadata": {},
   "outputs": [],
   "source": [
    "# Features\n",
    "for feature in data.feature_names:\n",
    "    print(feature)"
   ]
  },
  {
   "cell_type": "code",
   "execution_count": null,
   "id": "261d9491",
   "metadata": {},
   "outputs": [],
   "source": [
    "X = data.data\n",
    "Y = data.target\n",
    "\n",
    "print(f\"Data size: {len(X)}\")"
   ]
  },
  {
   "cell_type": "code",
   "execution_count": null,
   "id": "0615e7e4",
   "metadata": {},
   "outputs": [],
   "source": [
    "# Printing the data\n",
    "\n",
    "for x, y in zip(X, Y):\n",
    "    print(f\" {x}: {y} ({data.target_names[y]})\")"
   ]
  },
  {
   "cell_type": "code",
   "execution_count": null,
   "id": "51f95e2c",
   "metadata": {},
   "outputs": [],
   "source": [
    "from sklearn.model_selection import train_test_split\n",
    "\n",
    "# Random state ensures reproducibility\n",
    "X_train, X_test, Y_train, Y_test = train_test_split(\n",
    "    X, Y, test_size=0.33, random_state=42\n",
    ")\n",
    "\n",
    "print(f\"Training data size: {len(X_train)}\")\n",
    "print(f\"Test data size: {len(X_test)}\")"
   ]
  },
  {
   "cell_type": "code",
   "execution_count": null,
   "id": "4e1cdd72",
   "metadata": {},
   "outputs": [],
   "source": [
    "from sklearn.metrics import ConfusionMatrixDisplay\n",
    "import matplotlib.pyplot as plot\n",
    "\n",
    "\n",
    "def display_confusion_matrix(classifier, title):\n",
    "    disp = ConfusionMatrixDisplay.from_estimator(\n",
    "        classifier,\n",
    "        X_test,\n",
    "        Y_test,\n",
    "        display_labels=data.target_names,\n",
    "        cmap=plot.cm.Blues,\n",
    "        normalize=\"true\",\n",
    "    )\n",
    "    disp.ax_.set_title(title)\n",
    "    plot.show()"
   ]
  },
  {
   "cell_type": "code",
   "execution_count": null,
   "id": "d0f4768e",
   "metadata": {},
   "outputs": [],
   "source": [
    "## Classifier\n",
    "from sklearn import svm, metrics\n",
    "\n",
    "for kernel in [\"linear\", \"rbf\", \"poly\"]:\n",
    "    print(\"\")\n",
    "    classifier = svm.SVC(kernel=kernel, gamma=10)\n",
    "    classifier.fit(X_train, Y_train)\n",
    "\n",
    "    predicted_values = classifier.predict(X_test.reshape((X_test.shape[0], -1)))\n",
    "\n",
    "    # classification report\n",
    "    title = \"SVM classifier with\" + kernel + \" kernel\"\n",
    "    print(metrics.classification_report(Y_test, predicted_values))\n",
    "    display_confusion_matrix(classifier, title)"
   ]
  },
  {
   "cell_type": "markdown",
   "id": "479ed763-0655-4265-93cf-ec56f490ba9e",
   "metadata": {},
   "source": [
    "## Importation of packages\n",
    "\n",
    "We import the necessary packages"
   ]
  },
  {
   "cell_type": "code",
   "execution_count": null,
   "id": "0b50d598-27f2-4e72-bf58-ab323281df11",
   "metadata": {},
   "outputs": [],
   "source": [
    "import numpy as np\n",
    "from sklearn.linear_model import Perceptron\n",
    "from sklearn import datasets, metrics\n",
    "from sklearn.model_selection import train_test_split\n",
    "from sklearn.preprocessing import StandardScaler\n",
    "import matplotlib.pyplot as plot\n",
    "from sklearn.metrics import confusion_matrix, ConfusionMatrixDisplay"
   ]
  },
  {
   "cell_type": "markdown",
   "id": "27a1c635-1a31-496c-ba1b-1605b42044c6",
   "metadata": {},
   "source": [
    "## Load Dataset\n",
    "\n",
    "We load the necessary IRIS dataset. "
   ]
  },
  {
   "cell_type": "code",
   "execution_count": null,
   "id": "d919d939-2422-4704-9892-f3e0fdb7e1ec",
   "metadata": {},
   "outputs": [],
   "source": [
    "iris = datasets.load_iris()"
   ]
  },
  {
   "cell_type": "markdown",
   "id": "b5d2da5b-2811-4c47-b976-f5d919de763a",
   "metadata": {},
   "source": [
    "## Description of the Dataset"
   ]
  },
  {
   "cell_type": "markdown",
   "id": "ec5d80ca-1dbc-4329-81bb-8af2eae72235",
   "metadata": {},
   "source": [
    "### Input features"
   ]
  },
  {
   "cell_type": "code",
   "execution_count": null,
   "id": "cae60d1a-aa96-411e-afb1-22ad1df561b0",
   "metadata": {},
   "outputs": [],
   "source": [
    "iris.feature_names"
   ]
  },
  {
   "cell_type": "markdown",
   "id": "ba7be381-1042-4c57-8098-a2d9a5454b99",
   "metadata": {},
   "source": [
    "## Target feature"
   ]
  },
  {
   "cell_type": "code",
   "execution_count": null,
   "id": "e78c505a-44f1-4308-b3ff-0b2afbe20eb3",
   "metadata": {},
   "outputs": [],
   "source": [
    "iris.target_names"
   ]
  },
  {
   "cell_type": "markdown",
   "id": "7e5f4b7f-ea1d-4a75-9b4a-2dbf07369d11",
   "metadata": {},
   "source": [
    "## Verify number of records"
   ]
  },
  {
   "cell_type": "code",
   "execution_count": null,
   "id": "4cfbd7dc-e706-49d4-a378-886ab5c5b500",
   "metadata": {},
   "outputs": [],
   "source": [
    "print(f\"Number of Input Records: {len(iris.data)}\")\n",
    "print(f\"Number of Target Records: {len(iris.target)}\")"
   ]
  },
  {
   "cell_type": "markdown",
   "id": "e09d4d89-2d11-4874-b9ea-fae4bcf7cadd",
   "metadata": {},
   "source": [
    "## Visulizing the dataset"
   ]
  },
  {
   "cell_type": "code",
   "execution_count": null,
   "id": "b70172d5-a6aa-4c39-82d4-dac313694225",
   "metadata": {},
   "outputs": [],
   "source": [
    "x = iris.data\n",
    "y = iris.target\n",
    "\n",
    "plot.scatter(x[:, 0], x[:, 1], c=y, cmap=plot.cm.Set1, edgecolor=\"k\")\n",
    "plot.xlabel(iris.feature_names[0])\n",
    "plot.ylabel(iris.feature_names[1])\n",
    "plot.show()"
   ]
  },
  {
   "cell_type": "code",
   "execution_count": null,
   "id": "b84509c7-964e-49a1-9ca8-44c426bbd669",
   "metadata": {},
   "outputs": [],
   "source": [
    "plot.scatter(x[:, 2], x[:, 3], c=y, cmap=plot.cm.Set1, edgecolor=\"k\")\n",
    "plot.xlabel(iris.feature_names[2])\n",
    "plot.ylabel(iris.feature_names[3])\n",
    "plot.show()"
   ]
  },
  {
   "cell_type": "code",
   "execution_count": null,
   "id": "9b99565c-e0ef-444e-9978-5048221b5b9b",
   "metadata": {},
   "outputs": [],
   "source": [
    "fig = plot.figure(figsize=(6, 6))\n",
    "ax = fig.add_subplot(projection=\"3d\")\n",
    "\n",
    "ax.scatter(x[:, 1], x[:, 2], x[:, 3], c=y, cmap=plot.cm.Set1, edgecolor=\"k\")\n",
    "ax.set_xlabel(iris.feature_names[1])\n",
    "ax.set_ylabel(iris.feature_names[2])\n",
    "ax.set_zlabel(iris.feature_names[3])\n",
    "plot.show()"
   ]
  },
  {
   "cell_type": "code",
   "execution_count": null,
   "id": "775c7e70-f9e5-41f1-a72f-079fd3e493e3",
   "metadata": {},
   "outputs": [],
   "source": [
    "fig = plot.figure(figsize=(6, 6))\n",
    "ax = fig.add_subplot(projection=\"3d\")\n",
    "\n",
    "ax.scatter(x[:, 0], x[:, 2], x[:, 3], c=y, cmap=plot.cm.Set1, edgecolor=\"k\")\n",
    "ax.set_xlabel(iris.feature_names[0])\n",
    "ax.set_ylabel(iris.feature_names[2])\n",
    "ax.set_zlabel(iris.feature_names[3])\n",
    "plot.show()"
   ]
  },
  {
   "cell_type": "markdown",
   "id": "335c769d-fed5-4b31-979f-834804212d0b",
   "metadata": {},
   "source": [
    "## Training"
   ]
  },
  {
   "cell_type": "code",
   "execution_count": null,
   "id": "1f8d5a4c-5e7a-4746-bc8f-2d42ba0e579d",
   "metadata": {},
   "outputs": [],
   "source": [
    "x = iris.data\n",
    "y = iris.target\n",
    "\n",
    "x_train, x_test, y_train, y_test = train_test_split(\n",
    "    x, y, train_size=0.7, random_state=12, stratify=y\n",
    ")"
   ]
  },
  {
   "cell_type": "code",
   "execution_count": null,
   "id": "f80b103a-f11f-4e59-ad05-0424b798707d",
   "metadata": {},
   "outputs": [],
   "source": [
    "print(f\"Number of Training Records (input): {len(x_train)}\")\n",
    "print(f\"Number of Training Records (target): {len(y_train)}\")\n",
    "\n",
    "print(f\"Number of Test Records (input): {len(x_test)}\")\n",
    "print(f\"Number of Test Records (input): {len(x_test)}\")"
   ]
  },
  {
   "cell_type": "markdown",
   "id": "7d570001-43e4-4ff1-a2e6-0d890dea6646",
   "metadata": {},
   "source": [
    "## Standardization of features "
   ]
  },
  {
   "cell_type": "code",
   "execution_count": null,
   "id": "36ddb242-9437-465b-a640-a07cc89be89b",
   "metadata": {},
   "outputs": [],
   "source": [
    "sc = StandardScaler()\n",
    "sc.fit(x_train)\n",
    "print(f\"Mean: {sc.mean_} \\nVariance={sc.var_}\")"
   ]
  },
  {
   "cell_type": "code",
   "execution_count": null,
   "id": "00a348ea-f617-48f3-b7bc-5746ef49c856",
   "metadata": {},
   "outputs": [],
   "source": [
    "x_train_std = sc.transform(x_train)\n",
    "x_test_std = sc.transform(x_test)"
   ]
  },
  {
   "cell_type": "code",
   "execution_count": null,
   "id": "a047af9f-a970-4397-81a5-718972c36238",
   "metadata": {},
   "outputs": [],
   "source": [
    "classifier = Perceptron(max_iter=100, eta0=0.1, random_state=12)\n",
    "\n",
    "# training\n",
    "classifier.fit(x_train_std, y_train)"
   ]
  },
  {
   "cell_type": "markdown",
   "id": "c575825a-8be8-4e5d-bc43-13ff5d5f5f79",
   "metadata": {},
   "source": [
    "## Classification report"
   ]
  },
  {
   "cell_type": "code",
   "execution_count": null,
   "id": "cbd6fb99-b91f-483d-8923-08301664a1db",
   "metadata": {},
   "outputs": [],
   "source": [
    "predicted_target = classifier.predict(x_test_std)\n",
    "\n",
    "# classification report\n",
    "print(metrics.classification_report(y_test, predicted_target))"
   ]
  },
  {
   "cell_type": "markdown",
   "id": "a65193f4-3b33-4576-bbbc-22dc14a56120",
   "metadata": {},
   "source": [
    "## Confusion matrix"
   ]
  },
  {
   "cell_type": "code",
   "execution_count": null,
   "id": "a85e0a5a-c553-40af-a330-51c24603332f",
   "metadata": {},
   "outputs": [],
   "source": [
    "cm = confusion_matrix(y_test, predicted_target, normalize=\"pred\")\n",
    "disp = ConfusionMatrixDisplay(confusion_matrix=cm, display_labels=iris.target_names)\n",
    "disp.plot(cmap=plot.cm.Blues)"
   ]
  },
  {
   "cell_type": "code",
   "execution_count": null,
   "id": "4dee87ba-9c64-44ee-a2fe-29021c1a2b02",
   "metadata": {},
   "outputs": [],
   "source": [
    "cm = confusion_matrix(y_test, predicted_target, normalize=\"true\")\n",
    "disp = ConfusionMatrixDisplay(confusion_matrix=cm, display_labels=iris.target_names)\n",
    "disp.plot(cmap=plot.cm.Blues)"
   ]
  },
  {
   "cell_type": "markdown",
   "id": "3bbb7c56",
   "metadata": {},
   "source": [
    "## References\n",
    "\n",
    "- [Animate Your Own Fractals in Python with Matplotlib](https://matplotlib.org/matplotblog/posts/animated-fractals/)\n",
    "- [Arithmetic mean](https://en.wikipedia.org/wiki/Arithmetic_mean)\n",
    "- [Geometric mean](https://en.wikipedia.org/wiki/Geometric_mean)\n",
    "- [Harmonic mean](https://en.wikipedia.org/wiki/Harmonic_mean)\n",
    "- [Predicting sample size required for classification performance](https://bmcmedinformdecismak.biomedcentral.com/articles/10.1186/1472-6947-12-8)\n",
    "- [Cross entropy](https://en.wikipedia.org/wiki/Cross_entropy)\n",
    "- [A Gentle Introduction to Cross-Entropy for Machine Learning](https://machinelearningmastery.com/cross-entropy-for-machine-learning/)\n",
    "- [Gradient Descent, the Learning Rate, and the importance of Feature Scaling](https://towardsdatascience.com/gradient-descent-the-learning-rate-and-the-importance-of-feature-scaling-6c0b416596e1)\n",
    "- [Why is mean normalization useful in gradient descent?](https://stats.stackexchange.com/questions/315027/why-is-mean-normalization-useful-in-gradient-descent)\n",
    "- [Feature scaling](https://en.wikipedia.org/wiki/Feature_scaling)\n",
    "- [Normalizing your data (specifically, input and batch normalization)](https://www.jeremyjordan.me/batch-normalization/)\n",
    "- [The Iris Dataset](https://scikit-learn.org/stable/auto_examples/datasets/plot_iris_dataset.html)\n",
    "- [3D scatterplot](https://matplotlib.org/stable/gallery/mplot3d/scatter3d.html)\n",
    "- [sklearn.preprocessing.StandardScaler](https://scikit-learn.org/stable/modules/generated/sklearn.preprocessing.StandardScaler.html)\n",
    "- [sklearn.model_selection.train_test_split](https://scikit-learn.org/stable/modules/generated/sklearn.model_selection.train_test_split.html)\n",
    "- [Iris classification with sklearn perceptron](https://www.kaggle.com/code/choihanbin/iris-classification-with-sklearn-perceptron)\n",
    "- [plot_confusion_matrix without estimator](https://stackoverflow.com/questions/60776749/plot-confusion-matrix-without-estimator)"
   ]
  }
 ],
 "metadata": {
  "kernelspec": {
   "display_name": "Python 3",
   "language": "python",
   "name": "python3"
  },
  "language_info": {
   "codemirror_mode": {
    "name": "ipython",
    "version": 3
   },
   "file_extension": ".py",
   "mimetype": "text/x-python",
   "name": "python",
   "nbconvert_exporter": "python",
   "pygments_lexer": "ipython3",
   "version": "3.10.6"
  }
 },
 "nbformat": 4,
 "nbformat_minor": 5
}
