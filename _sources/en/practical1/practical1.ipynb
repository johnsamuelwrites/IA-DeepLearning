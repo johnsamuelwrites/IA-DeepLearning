{
 "cells": [
  {
   "cell_type": "markdown",
   "id": "e542386b-0558-4e40-b52c-de17d2181f85",
   "metadata": {},
   "source": [
    "# Practical Work 1 "
   ]
  },
  {
   "cell_type": "markdown",
   "id": "65848796-ecb3-47ed-a2b7-63e5f85ec963",
   "metadata": {},
   "source": [
    "## Academic year: 2024-2025"
   ]
  },
  {
   "cell_type": "markdown",
   "id": "673e9851-e863-493d-9526-6f6aaf4aa8af",
   "metadata": {},
   "source": [
    "## Goals\n",
    "1. Reinforce concepts using tools like NumPy and scikit-learn.\n",
    "2. Apply propositional logic and test it on image datasets.\n",
    "3. Explore predicate logic and validate it on image datasets.\n",
    "4. Understand text analysis techniques, including stemming, lemmatization, and morphological analysis."
   ]
  },
  {
   "cell_type": "markdown",
   "id": "4d559f5e-d3ac-47f4-a638-e26c0c692c5e",
   "metadata": {},
   "source": [
    "### Exercise 1.0 [★]\n",
    "Test the Python Jupyter notebook [recalls](./practical0.ipynb) and familiarize yourself with the different methods of the libraries: numpy, scikit-learn etc."
   ]
  },
  {
   "cell_type": "markdown",
   "id": "8cf40974-7e8e-49fa-ac4c-581a065d53c8",
   "metadata": {},
   "source": [
    "### Exercise 1.1 [★]\n",
    "\n",
    "The first exercise involves testing the propositional logic. The CSV file (`image_data.csv`) contains attributes like color, shape, size, texture, and classification after image analysis process. Define the propositions given below and test logical expressions based on these attributes to evaluate relationships within the data. \n"
   ]
  },
  {
   "cell_type": "markdown",
   "id": "217976e7-5779-4389-8fb3-45e94666f11a",
   "metadata": {},
   "source": [
    "#### Step 1: Load and Inspect the CSV File\n",
    "1. Read the CSV file into a pandas DataFrame.\n",
    "2. Print the first few rows of the DataFrame to understand the structure.\n"
   ]
  },
  {
   "cell_type": "code",
   "execution_count": null,
   "id": "92fb9556-3809-4049-a703-4b1c0a70fcb3",
   "metadata": {},
   "outputs": [],
   "source": [
    "import pandas as pd\n",
    "\n",
    "# Load the CSV file\n",
    "df = pd.read_csv('../../data/image_data.csv')\n",
    "\n",
    "# Inspect the data\n",
    "print(df.head())"
   ]
  },
  {
   "cell_type": "markdown",
   "id": "119a9271-7e0f-4955-907e-08bdb1664c2d",
   "metadata": {},
   "source": [
    "### Step 2: Define Propositions Based on the Data\n",
    "1. Create boolean propositions based on the columns in the CSV file.\n",
    "   - `P`: Checks if the color is blue.\n",
    "   - `Q`: Checks if the shape is a circle.\n",
    "   - `R`: Checks if the classification is animal.\n",
    "   - `S`: Checks if the size is large (define a threshold for 'large').\n",
    "   - `T`: Checks if the texture is rough.\n",
    "   - `U`: Checks if the classification is vehicle.\n",
    "   - `V`: Checks if the classification is building.\n"
   ]
  },
  {
   "cell_type": "markdown",
   "id": "77c38807-ae3e-4609-ab3a-557a9e8ed85e",
   "metadata": {},
   "source": [
    "### Step 3: Define the Logical Expressions\n",
    "Create logical expressions based on the propositions defined in Step 2.\n",
    "   - `expr1`: If color is blue and shape is a circle, then the classification is animal.\n",
    "   - `expr2`: If size is large and texture is rough, then the classification is vehicle.\n",
    "   - `expr3`: If classification is building, shape is circle, color is blue, and size is large, then classification is building."
   ]
  },
  {
   "cell_type": "markdown",
   "id": "128ac4bc-db36-4012-aa94-9c630fd4f9bc",
   "metadata": {},
   "source": [
    "### Step 4: Test the Expressions\n",
    "1. Test the logical expressions on each row of the DataFrame.\n",
    "2. Output the results of the expressions for each row."
   ]
  },
  {
   "cell_type": "markdown",
   "id": "77f894ed-5328-4275-a816-e7215dddb48f",
   "metadata": {},
   "source": [
    "#### Step 5: Add a Compound Proposition with Negation and Disjunction\n",
    "\n",
    "Create a new complex expression that tests the following:\n",
    "- If the object is **not blue** or **has a smooth texture**, then it is classified as **not an object**."
   ]
  },
  {
   "cell_type": "markdown",
   "id": "5c593fae-ee62-45fb-b307-028ee8d638b7",
   "metadata": {},
   "source": [
    "#### Step 6: Count Satisfying Rows for Each Expression\n",
    "\n",
    "Count the number of rows where each logical expression is `True` and compare the frequencies of satisfied propositions.\n"
   ]
  },
  {
   "cell_type": "markdown",
   "id": "ecc3393e-6f86-4231-9468-9c33d0b3bc00",
   "metadata": {},
   "source": [
    "### Exercise 1.2 [★]\n",
    "\n",
    "#### Step 1: Install and Import Z3\n",
    "- Install the Z3 solver library (`z3-solver`).\n",
    "- Import Z3 and familiarize yourself with its basic functions."
   ]
  },
  {
   "cell_type": "code",
   "execution_count": null,
   "id": "ec7b136e-fb90-4137-b90a-1a601e9d819c",
   "metadata": {},
   "outputs": [],
   "source": [
    "!pip install z3-solver"
   ]
  },
  {
   "cell_type": "code",
   "execution_count": null,
   "id": "0e77dfc9-4014-4d2d-9057-7c70b79b94f9",
   "metadata": {},
   "outputs": [],
   "source": [
    "from z3 import *"
   ]
  },
  {
   "cell_type": "markdown",
   "id": "14a3ee50-9470-4690-b6bc-f99d5701d878",
   "metadata": {},
   "source": [
    "#### Step 2: Define the Attributes as First-Order Logic Variablesm\n",
    "- Define variables for each column (e.g., `color`, `shape`, `size`).\n",
    "- Specify the possible values (e.g., `color` can be blue, red, green, etc.).\n",
    "- Define constraints for attributes such as **size** being an integer and other attributes being strings."
   ]
  },
  {
   "cell_type": "code",
   "execution_count": null,
   "id": "1aaab988-7e35-4815-9bcb-1cfaf88921cb",
   "metadata": {},
   "outputs": [],
   "source": [
    "# Declare Z3 variables\n",
    "Color = String('color')\n",
    "Shape = String('shape')\n",
    "Size = Int('size')\n",
    "Texture = String('texture')\n",
    "Classification = String('classification')"
   ]
  },
  {
   "cell_type": "markdown",
   "id": "0220f9ab-e4dd-439b-94cc-6c5faf4c3073",
   "metadata": {},
   "source": [
    "### Step 3: Encode Logical Propositions in FOL\n",
    "- Encode the provided propositions using Z3's logic (See exercise 1.1).\n",
    "- Example: If the object is blue and circular, then it is classified as an animal (`Implies(And(Color == \"blue\", Shape == \"circle\"), Classification == \"animal\")`).\n"
   ]
  },
  {
   "cell_type": "code",
   "execution_count": null,
   "id": "43b9c1a8-8b64-4f19-9423-b2ef22d35573",
   "metadata": {},
   "outputs": [],
   "source": [
    "# Define constraints\n",
    "valid_colors = Or(Color == \"blue\", Color == \"red\", Color == \"green\", Color == \"yellow\", Color == \"purple\")\n",
    "valid_shapes = Or(Shape == \"circle\", Shape == \"square\", Shape == \"triangle\", Shape == \"rectangle\", Shape == \"ellipse\")\n",
    "valid_size = Size >= 100  # Size constraint\n",
    "valid_textures = Or(Texture == \"polka dot\", Texture == \"smooth\", Texture == \"patterned\", Texture == \"rough\")\n",
    "valid_classifications = Or(Classification == \"animal\", Classification == \"plant\", Classification == \"object\", Classification == \"vehicle\", Classification == \"building\")\n",
    "\n",
    "# Add these constraints to the solver\n",
    "solver = Solver()\n",
    "solver.add(valid_colors, valid_shapes, valid_size, valid_textures, valid_classifications)"
   ]
  },
  {
   "cell_type": "markdown",
   "id": "78874e32-5e72-4e74-907b-da73e8f4c930",
   "metadata": {},
   "source": [
    "#### Step 4: Solve for Satisfiability\n",
    "\n",
    "- Use the Z3 solver to check whether the propositions are satisfiable.\n",
    "- Print the results."
   ]
  },
  {
   "cell_type": "code",
   "execution_count": null,
   "id": "9bc953cd-24d4-4eea-b951-84a03f5fb683",
   "metadata": {},
   "outputs": [],
   "source": [
    "# Check if the solver finds a solution that satisfies the constraints\n",
    "if solver.check() == sat:\n",
    "    print(\"The propositions are satisfiable.\")\n",
    "    model = solver.model()\n",
    "    print(model)\n",
    "else:\n",
    "    print(\"The propositions are not satisfiable.\")"
   ]
  },
  {
   "cell_type": "markdown",
   "id": "67bb53df-e837-4966-9f47-84e31eaa4116",
   "metadata": {},
   "source": [
    "#### Step 5: Add Additional Constraints\n",
    "- Add a constraint that restricts certain combinations, such as “if the object is green, it cannot be circular.”\n",
    "- Add another constraint where “polka dot objects cannot be vehicles.”"
   ]
  },
  {
   "cell_type": "markdown",
   "id": "81681bcd-feef-492d-9dc7-0d34443fc2df",
   "metadata": {},
   "source": [
    "## Exercise 1.3"
   ]
  },
  {
   "cell_type": "markdown",
   "id": "b54b9e96-b21b-439a-a0b6-f2cdfd75ee8f",
   "metadata": {},
   "source": [
    "Read the CSV file `image_data.csv` and define attributes as Z3 variables based on the file's data. Encode logical propositions and constraints using first-order logic for each row, then solve for satisfiability."
   ]
  },
  {
   "cell_type": "code",
   "execution_count": null,
   "id": "079b2da9-13b7-464d-8f97-5dc6cde0e8ec",
   "metadata": {},
   "outputs": [],
   "source": [
    "import pandas as pd\n",
    "from z3 import *\n",
    "\n",
    "# Load CSV data\n",
    "df = pd.read_csv('../../data/image_data.csv')\n",
    "\n",
    "# Initialize Z3 solver\n",
    "solver = Solver()"
   ]
  },
  {
   "cell_type": "markdown",
   "id": "05b43f75-9462-4415-867f-4f5bfa7f723f",
   "metadata": {},
   "source": [
    "#### Step 2: Define Z3 Variables Dynamically from CSV Data\n",
    "For each row in the CSV, define the attributes as Z3 variables and ensure the types are consistent."
   ]
  },
  {
   "cell_type": "code",
   "execution_count": null,
   "id": "7b97648d-80b0-4d29-b5ab-abd78f962218",
   "metadata": {},
   "outputs": [],
   "source": [
    "# Define Z3 variables for each attribute dynamically for each row\n",
    "for index, row in df.iterrows():\n",
    "    color = String(f'color_{index}')\n",
    "    shape = String(f'shape_{index}')\n",
    "    size = Int(f'size_{index}')\n",
    "    texture = String(f'texture_{index}')\n",
    "    classification = String(f'classification_{index}')\n",
    "    \n",
    "    # Add constraints for valid values\n",
    "    solver.add(Or(color == row['color'], shape == row['shape'], size == row['size'], texture == row['texture'], classification == row['classification']))\n"
   ]
  },
  {
   "cell_type": "markdown",
   "id": "cc3affce-47cb-43ea-a780-c84488aa47e4",
   "metadata": {},
   "source": [
    "### Step 3: Encode Propositions in FOL\n",
    "- Write logical propositions for each row, like \"if an object is blue and circular, then it is classified as an animal.\"\n",
    "- Use exercise 1.1 and add additional propositions"
   ]
  },
  {
   "cell_type": "code",
   "execution_count": null,
   "id": "0e4fab93-7a80-4a0e-9cde-bf05e9242e20",
   "metadata": {},
   "outputs": [],
   "source": [
    "# Example FOL for each row\n",
    "for index, row in df.iterrows():\n",
    "    expr1 = Implies(And(String(f'color_{index}') == \"blue\", String(f'shape_{index}') == \"circle\"), String(f'classification_{index}') == \"animal\")\n",
    "    solver.add(expr1)\n"
   ]
  },
  {
   "cell_type": "markdown",
   "id": "c561a15b-5ee8-4849-96b0-3b4e2b985773",
   "metadata": {},
   "source": [
    "### Step 4: Solve for Satisfiability\n",
    "Check whether the logical propositions for the CSV data are satisfiable."
   ]
  },
  {
   "cell_type": "markdown",
   "id": "fa8724f3-ff45-41c4-8082-68e3c3be1949",
   "metadata": {},
   "source": [
    "### Step 5: Add Additional Constraints\n",
    "- Include new constraints (e.g., \"green objects cannot be circular\") and check the result again."
   ]
  },
  {
   "cell_type": "code",
   "execution_count": null,
   "id": "449c1ddc-3b30-401e-85ef-0b142b2a41ba",
   "metadata": {},
   "outputs": [],
   "source": [
    "no_green_circle = Implies(String(f'color_{index}') == \"green\", String(f'shape_{index}') != \"circle\")\n",
    "solver.add(no_green_circle)"
   ]
  },
  {
   "cell_type": "markdown",
   "id": "57d2861f-5521-4e76-8097-095199ba55aa",
   "metadata": {},
   "source": [
    "### Step 6: Introduce an Unsatisfiable Constraint\n",
    "- Add a conflicting constraint that forces an object to have two mutually exclusive attributes (e.g., being both blue and red).\n",
    "- Check for satisfiability and show that the model becomes unsatisfiable."
   ]
  },
  {
   "cell_type": "code",
   "execution_count": null,
   "id": "9aefa656-22bc-4e1e-8fbd-30a49617049b",
   "metadata": {},
   "outputs": [],
   "source": [
    "# Add a conflicting constraint: Object must be both blue and red (which is impossible)\n",
    "for index in range(len(df)):\n",
    "    conflicting_constraint = And(String(f'color_{index}') == \"blue\", String(f'color_{index}') == \"red\")\n",
    "    solver.add(conflicting_constraint)\n",
    "\n",
    "# Check satisfiability after adding the conflicting constraint\n",
    "if solver.check() == sat:\n",
    "    print(\"The propositions are still satisfiable.\")\n",
    "else:\n",
    "    print(\"The model is now unsatisfiable due to conflicting constraints.\")\n"
   ]
  },
  {
   "cell_type": "markdown",
   "id": "582e0b36-39be-4ec6-ade3-387b77f5f5b4",
   "metadata": {},
   "source": [
    "### Exercise 1.4 [★★]\n",
    "\n",
    "Download this webpage of Wikipedia: https://fr.wikipedia.org/wiki/Paris and save the file as an HTML. Analyze the Wikipedia page by extracting and counting words, links, images, numbers, dates, proper nouns, and structured data from tables, while differentiating between sections and paragraphs. This involves downloading the HTML, parsing it, and systematically identifying relevant content. Write a program to implement these tasks: \n",
    "\n",
    "1. **Download HTML**: Fetch and save the Wikipedia page as an HTML file.\n",
    "2. **Load Content**: Read and parse the HTML file for analysis.\n",
    "3. **Word Analysis**: Count word occurrences in the text.\n",
    "4. **Extract Links**: Identify and categorize internal and external links.\n",
    "5. **Image Extraction**: Locate images and gather their URLs and sizes.\n",
    "6. **Number and Date Extraction**: Identify numbers, dates, and geographical coordinates.\n",
    "7. **Proper Nouns**: Extract names of people and places.\n",
    "8. **Table Data**: Locate and extract data from tables.\n",
    "9. **Section Differentiation**: Identify sections and paragraphs in the content."
   ]
  },
  {
   "cell_type": "markdown",
   "id": "7f46833e-4bce-4dc9-8add-89f44a5c7492",
   "metadata": {},
   "source": [
    "#### Analysis of Wikipedia Page: Paris\n",
    "\n",
    "In this notebook, tasks will be performed to extract and analyze various elements from the Wikipedia page of Paris.\n",
    "\n",
    "#### Step 1: Download the HTML Page\n",
    "First, download the HTML content of the specified Wikipedia page and save it as an HTML file.\n",
    "\n",
    "- **Hint**: Use the `requests` library to handle the HTTP request. Remember to check the response status to confirm that the page was downloaded successfully."
   ]
  },
  {
   "cell_type": "code",
   "execution_count": null,
   "id": "7a0ab6df-7131-4d27-87de-ea431191a320",
   "metadata": {},
   "outputs": [],
   "source": [
    "import requests\n",
    "\n",
    "# URL of the Wikipedia page\n",
    "url = \"https://fr.wikipedia.org/wiki/Paris\"\n",
    "\n",
    "# Send a GET request to the URL\n",
    "response = requests.get(url)\n",
    "\n",
    "# Save the content as an HTML file\n",
    "with open(\"paris.html\", \"w\", encoding='utf-8') as file:\n",
    "    file.write(response.text)\n",
    "\n",
    "print(\"HTML page downloaded and saved as paris.html\")\n"
   ]
  },
  {
   "cell_type": "markdown",
   "id": "e5ebbfa5-7cff-41ab-818d-b94338ca42c5",
   "metadata": {},
   "source": [
    "#### Step 2: Load the HTML Content\n",
    "Load the downloaded HTML file for further analysis.\n",
    "- **Comment**: Parsing the HTML is crucial for extracting data. Make sure to use a library like BeautifulSoup that can navigate the HTML structure effectively.\n",
    "- **Hint**: Familiarize yourself with the `BeautifulSoup` methods to find elements in the HTML, such as `find()` and `find_all()`."
   ]
  },
  {
   "cell_type": "code",
   "execution_count": null,
   "id": "ef264ae1-81a0-4975-ae4c-b689d8103dc4",
   "metadata": {},
   "outputs": [],
   "source": [
    "from bs4 import BeautifulSoup\n",
    "\n",
    "# Load the HTML file\n",
    "with open(\"paris.html\", \"r\", encoding='utf-8') as file:\n",
    "    html_content = file.read()\n",
    "\n",
    "# Parse the HTML content using BeautifulSoup\n",
    "soup = BeautifulSoup(html_content, \"html.parser\")\n",
    "print(\"HTML content loaded.\")\n"
   ]
  },
  {
   "cell_type": "markdown",
   "id": "a8fe0893-327f-4da6-bd18-d17288d044e6",
   "metadata": {},
   "source": [
    "#### Step 3: Extract and Analyze Words\n",
    "Count the occurrences of each word in the page.\n",
    "- **Comment**: Consider normalizing the text by converting it to lowercase to avoid counting the same word in different cases separately.\n",
    "- **Hint**: Use regular expressions to effectively filter out non-word characters when splitting the text into words."
   ]
  },
  {
   "cell_type": "code",
   "execution_count": null,
   "id": "b552f2d2-11ab-4f38-80b5-dbd900f20e2e",
   "metadata": {},
   "outputs": [],
   "source": [
    "from collections import Counter\n",
    "import re\n",
    "\n",
    "# Extract text from the HTML content\n",
    "text = soup.get_text()\n",
    "\n",
    "# Clean and split text into words\n",
    "words = re.findall(r'\\w+', text.lower())\n",
    "word_count = Counter(words)\n",
    "\n",
    "# Display the 10 most common words\n",
    "print(word_count.most_common(10))\n"
   ]
  },
  {
   "cell_type": "markdown",
   "id": "2b6c8782-5dfb-4bb2-a9f2-a10e365daf7b",
   "metadata": {},
   "source": [
    "#### Step 4: Extract Links\n",
    "Identify all internal and external links from the page.\n",
    "\n",
    "- **Comment**: Understanding the difference between internal and external links is important for categorization.\n",
    "- **Hint**: Check the `href` attribute of the anchor (`<a>`) tags to determine the type of link."
   ]
  },
  {
   "cell_type": "markdown",
   "id": "6e7e9cae-5524-48cf-9801-25a3a5c89056",
   "metadata": {},
   "source": [
    "#### Step 5: Extract Images and Their Sizes\n",
    "Identify all images on the page and get their sizes.\n",
    "\n",
    "- **Comment**: Be aware that images may not always be stored in the same format. Ensure you construct the correct URLs for them.\n",
    "- **Hint**: You may need to check the attributes of the `<img>` tags to get additional information, such as the size of the images if available."
   ]
  },
  {
   "cell_type": "markdown",
   "id": "72b6cc74-d500-49d4-8e30-f7991d4e4fc6",
   "metadata": {},
   "source": [
    "#### Step 6: Extract Numbers, Dates, and Geographical Coordinates\n",
    "Identify numbers, dates, and geographical coordinates from the text.\n",
    "\n",
    "- **Comment**: Different formats for dates and numbers can complicate extraction. Consider the various ways these can appear on the page.\n",
    "- **Hint**: Use regular expressions tailored for specific patterns (e.g., date formats or geographic coordinates) to accurately identify them."
   ]
  },
  {
   "cell_type": "markdown",
   "id": "ab4af9aa-0e9f-4af0-8eca-7c8378d58779",
   "metadata": {},
   "source": [
    "#### Step 7: Identify Proper Nouns\n",
    "Extract proper nouns from the text.\n",
    "\n",
    "- **Comment**: Proper nouns can include names of people, places, and organizations. Identifying them correctly can enhance your data analysis.\n",
    "- **Hint**: Use Natural Language Processing (NLP) techniques, such as named entity recognition, to automate the identification of proper nouns."
   ]
  },
  {
   "cell_type": "markdown",
   "id": "2db0cd42-246a-4d82-9961-2ea425022141",
   "metadata": {},
   "source": [
    "#### Step 8: Extract Structured Data (Tables)\n",
    "Identify and extract data from tables present in the HTML.\n",
    "\n",
    "- **Comment**: Tables often contain organized data that can be useful for analysis. Make sure to capture both header and data cells.\n",
    "- **Hint**: Familiarize yourself with the structure of HTML tables, including how to navigate rows (`<tr>`) and cells (`<td>` and `<th>`)."
   ]
  },
  {
   "cell_type": "markdown",
   "id": "91f435c3-a4c5-4855-9ed7-64ea1d677079",
   "metadata": {},
   "source": [
    "#### Step 9: Differentiate Sections and Paragraphs\n",
    "Identify and separate sections and paragraphs in the content.\n",
    "\n",
    "- **Comment**: Sections help in understanding the organization of the content. Recognizing different heading levels can aid in content navigation.\n",
    "- **Hint**: Use appropriate tags (`<h1>`, `<h2>`, etc.) to differentiate between sections and ensure you capture their associated content, like paragraphs.\n"
   ]
  },
  {
   "cell_type": "markdown",
   "id": "dbf88902-eb38-4e12-947e-1a7a60979948",
   "metadata": {},
   "source": [
    "## Exercise 1.5 [★★★]\n",
    "Analyze the text from the downloaded Wikipedia page by applying stemming, n-gram extraction, PoS tagging, lemmatization, morphological analysis, named entity recognition, and word embedding using Word2Vec models. Compare the results from NLTK, spaCy, and Gensim to evaluate their effectiveness in text analysis tasks."
   ]
  },
  {
   "cell_type": "markdown",
   "id": "c0da2ca0-e423-44d3-97f8-8141c3da6094",
   "metadata": {},
   "source": [
    "#### Prerequisites\n",
    "Make sure you have the required libraries installed. You can install them using pip if you haven't already:"
   ]
  },
  {
   "cell_type": "code",
   "execution_count": null,
   "id": "b195a028-5472-49b6-9960-4cb53b93b820",
   "metadata": {},
   "outputs": [],
   "source": [
    "!pip install nltk spacy gensim wordcloud seaborn"
   ]
  },
  {
   "cell_type": "code",
   "execution_count": null,
   "id": "c6ff3539-b477-455e-a197-a82cca04cbf0",
   "metadata": {},
   "outputs": [],
   "source": [
    "! python -m spacy download fr_core_news_sm  # For French language processing"
   ]
  },
  {
   "cell_type": "markdown",
   "id": "094eb7f3-92dc-4fc7-ba93-83e420cab4cf",
   "metadata": {},
   "source": [
    "### Step 1: Load the Wikipedia Page\n",
    "Start by loading the HTML file you saved earlier and extracting the text."
   ]
  },
  {
   "cell_type": "code",
   "execution_count": null,
   "id": "eb11a6e3-22f5-4d61-bf50-9ee8046a8b31",
   "metadata": {},
   "outputs": [],
   "source": [
    "from bs4 import BeautifulSoup\n",
    "\n",
    "# Load the HTML file\n",
    "with open(\"paris.html\", \"r\", encoding='utf-8') as file:\n",
    "    html_content = file.read()\n",
    "\n",
    "# Parse the HTML content\n",
    "soup = BeautifulSoup(html_content, \"html.parser\")\n",
    "text = soup.get_text()"
   ]
  },
  {
   "cell_type": "markdown",
   "id": "ac9be759-1767-488b-9a73-74b658182c20",
   "metadata": {},
   "source": [
    "### Step 2: Apply Stemming Algorithms\n",
    "Use the Porter and Snowball stemmers from NLTK to stem the words from the text."
   ]
  },
  {
   "cell_type": "code",
   "execution_count": null,
   "id": "d41fab36-d89b-4892-9a8d-9ae75092d72d",
   "metadata": {},
   "outputs": [],
   "source": [
    "import nltk\n",
    "from nltk.stem import PorterStemmer, SnowballStemmer\n",
    "from collections import Counter\n",
    "import re\n",
    "\n",
    "# Tokenize and clean the text\n",
    "words = re.findall(r'\\w+', text.lower())\n",
    "\n",
    "# Initialize stemmers\n",
    "porter_stemmer = PorterStemmer()\n",
    "snowball_stemmer = SnowballStemmer(\"english\")\n",
    "\n",
    "# Apply stemming\n",
    "porter_stems = [porter_stemmer.stem(word) for word in words]\n",
    "snowball_stems = [snowball_stemmer.stem(word) for word in words]\n",
    "\n",
    "# Count unique stems\n",
    "porter_stem_count = Counter(porter_stems)\n",
    "snowball_stem_count = Counter(snowball_stems)\n",
    "\n",
    "# Display the most common stems and count of unique stems\n",
    "print(\"Most common Porter stems:\", porter_stem_count.most_common(10))\n",
    "print(\"Unique Porter stems count:\", len(porter_stem_count))\n",
    "\n",
    "print(\"Most common Snowball stems:\", snowball_stem_count.most_common(10))\n",
    "print(\"Unique Snowball stems count:\", len(snowball_stem_count))"
   ]
  },
  {
   "cell_type": "markdown",
   "id": "2edb693d-03b9-45b5-9f20-ce0d251bca00",
   "metadata": {},
   "source": [
    "### Step 3: Extract N-grams\n",
    "Generate and display the most common n-grams (1-grams to 5-grams) from the text."
   ]
  },
  {
   "cell_type": "markdown",
   "id": "02c7ce8f-84be-408e-aa62-8e3f0f4548a8",
   "metadata": {},
   "source": [
    "### Step 4: Part-of-Speech (PoS) Tagging\n",
    "Use NLTK or spaCy to perform PoS tagging on the text."
   ]
  },
  {
   "cell_type": "markdown",
   "id": "083c6f0f-0cd2-411f-bf28-c62f94c6b144",
   "metadata": {},
   "source": [
    "### Step 5: Lemmatization\n",
    "Apply lemmatization using NLTK or spaCy."
   ]
  },
  {
   "cell_type": "markdown",
   "id": "f19c3ad7-1c56-46f0-a23f-14457c7bb3ba",
   "metadata": {},
   "source": [
    "### Step 6: Morphological Analysis\n",
    "Use spaCy to perform morphological analysis on the text."
   ]
  },
  {
   "cell_type": "markdown",
   "id": "069c24ae-c334-48e4-8831-5e14451677ab",
   "metadata": {},
   "source": [
    "### Step 7: Named Entity Recognition (NER)\n",
    "Use spaCy to identify named entities in the text.\n"
   ]
  },
  {
   "cell_type": "markdown",
   "id": "fd3b8c1d-4cd8-490d-9560-15b8d2fe949f",
   "metadata": {},
   "source": [
    "### Step 8: Frequency Distribution of Words\n",
    "Visualize the frequencydistribution of words using Matplotlib."
   ]
  },
  {
   "cell_type": "markdown",
   "id": "f386cadd-d6cb-4a86-8509-21f14fb9c813",
   "metadata": {},
   "source": [
    "### Step 9: Create a Word Cloud\n",
    "\n",
    "Generate a word cloud to visualize the most frequent words."
   ]
  },
  {
   "cell_type": "markdown",
   "id": "304f7f68-00b8-43d6-963e-d7b754859341",
   "metadata": {},
   "source": [
    "### Step 10: Visualization of Named Entities\n",
    "\n",
    "Visualize the named entities recognized in the text using Matplotlib."
   ]
  },
  {
   "cell_type": "markdown",
   "id": "2a4f5a7b-84fe-4b13-ab15-cb0979fc5860",
   "metadata": {},
   "source": [
    "### Step 11: Visualization of Most Common Nouns\n",
    "\n",
    "Visualize the most common nouns in the text, which can provide insights into the main subjects discussed."
   ]
  }
 ],
 "metadata": {
  "kernelspec": {
   "display_name": "Python 3 (ipykernel)",
   "language": "python",
   "name": "python3"
  },
  "language_info": {
   "codemirror_mode": {
    "name": "ipython",
    "version": 3
   },
   "file_extension": ".py",
   "mimetype": "text/x-python",
   "name": "python",
   "nbconvert_exporter": "python",
   "pygments_lexer": "ipython3",
   "version": "3.10.12"
  }
 },
 "nbformat": 4,
 "nbformat_minor": 5
}
