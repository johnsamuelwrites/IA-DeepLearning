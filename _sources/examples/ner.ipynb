{
 "cells": [
  {
   "cell_type": "markdown",
   "id": "4685281d-6cf1-41ee-80fe-4932ca5208f5",
   "metadata": {},
   "source": [
    "# Named-Entity Recognition"
   ]
  },
  {
   "cell_type": "code",
   "execution_count": null,
   "id": "3fd2afc4-4565-42b5-8f2f-248f285b55ef",
   "metadata": {},
   "outputs": [],
   "source": [
    "import spacy\n",
    "\n",
    "# Charger le modèle spaCy\n",
    "nlp = spacy.load(\"en_core_web_sm\")\n",
    "\n",
    "# Texte à analyser\n",
    "text_to_analyze = \"Paris is the capital of France. In 2015, its population was recorded as 2,206,488\"\n",
    "\n",
    "# Analyser le texte\n",
    "doc = nlp(text_to_analyze)\n",
    "\n",
    "# Afficher les informations sur les entités\n",
    "for entity in doc.ents:\n",
    "    entity_text = entity.text\n",
    "    start_char = entity.start_char\n",
    "    end_char = entity.end_char\n",
    "    label = entity.label_\n",
    "\n",
    "    print(\"Entité: {}, Début: {}, Fin: {}, Catégorie: {}\".format(entity_text, start_char, end_char, label))\n"
   ]
  },
  {
   "cell_type": "code",
   "execution_count": null,
   "id": "267bfca7-2d18-4261-847d-e5d4bd8e6bdc",
   "metadata": {},
   "outputs": [],
   "source": [
    "import spacy\n",
    "from spacy import displacy\n",
    "\n",
    "def visualize_entities(text):\n",
    "    # Charger le modèle spaCy\n",
    "    nlp = spacy.load(\"en_core_web_sm\")\n",
    "    \n",
    "    # Analyser le texte\n",
    "    doc = nlp(text)\n",
    "    \n",
    "    # Visualiser les entités nommées avec displaCy\n",
    "    displacy.render(doc, style=\"ent\", jupyter=True)\n",
    "\n",
    "# Texte à analyser et visualiser\n",
    "text_to_analyze = \"Paris is the capital of France. In 2015, its population was recorded as 2,206,488\"\n",
    "# Appeler la fonction pour analyser et visualiser les entités\n",
    "visualize_entities(text_to_analyze)"
   ]
  }
 ],
 "metadata": {
  "kernelspec": {
   "display_name": "Python 3 (ipykernel)",
   "language": "python",
   "name": "python3"
  },
  "language_info": {
   "codemirror_mode": {
    "name": "ipython",
    "version": 3
   },
   "file_extension": ".py",
   "mimetype": "text/x-python",
   "name": "python",
   "nbconvert_exporter": "python",
   "pygments_lexer": "ipython3",
   "version": "3.10.12"
  }
 },
 "nbformat": 4,
 "nbformat_minor": 5
}
