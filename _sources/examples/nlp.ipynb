{
 "cells": [
  {
   "cell_type": "markdown",
   "id": "865d3578-06ed-4a72-8131-87a12b67bfeb",
   "metadata": {},
   "source": [
    "# NLP"
   ]
  },
  {
   "cell_type": "markdown",
   "id": "fef26564-b4eb-4ba8-ad5e-7848e46651ca",
   "metadata": {},
   "source": [
    "## Stemming"
   ]
  },
  {
   "cell_type": "markdown",
   "id": "c831f26b-66b8-42dc-a28f-f7779f76e19b",
   "metadata": {},
   "source": [
    "### Porter"
   ]
  },
  {
   "cell_type": "code",
   "execution_count": null,
   "id": "62ac1953-b981-46f3-a769-8d7f6a8e9e46",
   "metadata": {},
   "outputs": [],
   "source": [
    "from nltk.stem.porter import PorterStemmer"
   ]
  },
  {
   "cell_type": "code",
   "execution_count": null,
   "id": "fed254b8-00f7-4f0c-833b-3926f133305a",
   "metadata": {},
   "outputs": [],
   "source": [
    "words = [\"words\", \"eating\", \"went\", \"engineer\", \"tried\", \"happily\", \"better\", \"happy\", \"happiness\", \"unhappiness\", \"flies\"] "
   ]
  },
  {
   "cell_type": "code",
   "execution_count": null,
   "id": "2a935555-01c2-4bef-ae97-bfad23242d40",
   "metadata": {},
   "outputs": [],
   "source": [
    "porter = PorterStemmer()"
   ]
  },
  {
   "cell_type": "code",
   "execution_count": null,
   "id": "f25a0946-0d29-4c0c-bb79-4af31e1e88f4",
   "metadata": {},
   "outputs": [],
   "source": [
    "for word in words:\n",
    "    print(\"Stem of \" + word + \" : \" + porter.stem(word))"
   ]
  },
  {
   "cell_type": "markdown",
   "id": "2967e0d5-a348-4d06-865f-4eeb9466d902",
   "metadata": {},
   "source": [
    "### Snowball"
   ]
  },
  {
   "cell_type": "code",
   "execution_count": null,
   "id": "66b41146-7607-473a-a064-7e69b0310e15",
   "metadata": {},
   "outputs": [],
   "source": [
    "from nltk.stem.snowball import SnowballStemmer"
   ]
  },
  {
   "cell_type": "code",
   "execution_count": null,
   "id": "2cb08b38-d33b-4043-8c08-b43b7e60bc14",
   "metadata": {},
   "outputs": [],
   "source": [
    "snowball = SnowballStemmer(\"english\")"
   ]
  },
  {
   "cell_type": "code",
   "execution_count": null,
   "id": "73452ff0-38a0-41f8-babe-117c1bd9cc5b",
   "metadata": {},
   "outputs": [],
   "source": [
    "for word in words:\n",
    "    print(\"Stem of \" + word + \" : \" + snowball.stem(word))"
   ]
  }
 ],
 "metadata": {
  "kernelspec": {
   "display_name": "Python 3 (ipykernel)",
   "language": "python",
   "name": "python3"
  },
  "language_info": {
   "codemirror_mode": {
    "name": "ipython",
    "version": 3
   },
   "file_extension": ".py",
   "mimetype": "text/x-python",
   "name": "python",
   "nbconvert_exporter": "python",
   "pygments_lexer": "ipython3",
   "version": "3.10.12"
  }
 },
 "nbformat": 4,
 "nbformat_minor": 5
}
