{
 "cells": [
  {
   "cell_type": "markdown",
   "id": "865d3578-06ed-4a72-8131-87a12b67bfeb",
   "metadata": {},
   "source": [
    "# NLP"
   ]
  },
  {
   "cell_type": "markdown",
   "id": "fef26564-b4eb-4ba8-ad5e-7848e46651ca",
   "metadata": {},
   "source": [
    "## Stemming"
   ]
  },
  {
   "cell_type": "markdown",
   "id": "c831f26b-66b8-42dc-a28f-f7779f76e19b",
   "metadata": {},
   "source": [
    "### Porter"
   ]
  },
  {
   "cell_type": "code",
   "execution_count": null,
   "id": "62ac1953-b981-46f3-a769-8d7f6a8e9e46",
   "metadata": {},
   "outputs": [],
   "source": [
    "from nltk.stem.porter import PorterStemmer"
   ]
  },
  {
   "cell_type": "code",
   "execution_count": null,
   "id": "fed254b8-00f7-4f0c-833b-3926f133305a",
   "metadata": {},
   "outputs": [],
   "source": [
    "words = [\"words\", \"eating\", \"went\", \"engineer\", \"tried\", \"happily\", \"better\", \"happy\", \"happiness\", \"unhappiness\", \"flies\"] "
   ]
  },
  {
   "cell_type": "code",
   "execution_count": null,
   "id": "2a935555-01c2-4bef-ae97-bfad23242d40",
   "metadata": {},
   "outputs": [],
   "source": [
    "porter = PorterStemmer()"
   ]
  },
  {
   "cell_type": "code",
   "execution_count": null,
   "id": "f25a0946-0d29-4c0c-bb79-4af31e1e88f4",
   "metadata": {},
   "outputs": [],
   "source": [
    "for word in words:\n",
    "    print(\"Stem of \" + word + \" : \" + porter.stem(word))"
   ]
  },
  {
   "cell_type": "markdown",
   "id": "2967e0d5-a348-4d06-865f-4eeb9466d902",
   "metadata": {},
   "source": [
    "### Snowball"
   ]
  },
  {
   "cell_type": "code",
   "execution_count": null,
   "id": "66b41146-7607-473a-a064-7e69b0310e15",
   "metadata": {},
   "outputs": [],
   "source": [
    "from nltk.stem.snowball import SnowballStemmer"
   ]
  },
  {
   "cell_type": "code",
   "execution_count": null,
   "id": "2cb08b38-d33b-4043-8c08-b43b7e60bc14",
   "metadata": {},
   "outputs": [],
   "source": [
    "snowball = SnowballStemmer(\"english\")"
   ]
  },
  {
   "cell_type": "code",
   "execution_count": null,
   "id": "73452ff0-38a0-41f8-babe-117c1bd9cc5b",
   "metadata": {},
   "outputs": [],
   "source": [
    "for word in words:\n",
    "    print(\"Stem of \" + word + \" : \" + snowball.stem(word))"
   ]
  },
  {
   "cell_type": "markdown",
   "id": "7d0f8932-1ed6-47ec-9465-d60c74513c54",
   "metadata": {},
   "source": [
    "## Part-of-speech tagging"
   ]
  },
  {
   "cell_type": "markdown",
   "id": "adceb8cf-8247-488c-b6ee-6eea7f96a732",
   "metadata": {},
   "source": [
    "#### Download NLTK's currently recommended part of speech tagger"
   ]
  },
  {
   "cell_type": "code",
   "execution_count": null,
   "id": "02b0eaf7-02f6-41be-9b8e-cbea5a36d669",
   "metadata": {},
   "outputs": [],
   "source": [
    "import nltk\n",
    "nltk.download('punkt')\n",
    "nltk.download('wordnet')\n",
    "nltk.download('averaged_perceptron_tagger')"
   ]
  },
  {
   "cell_type": "markdown",
   "id": "e2dd91cd-6b78-4674-9225-9b9e42bc8326",
   "metadata": {},
   "source": [
    "### n-grams"
   ]
  },
  {
   "cell_type": "code",
   "execution_count": null,
   "id": "7382b4a4-7e95-46a9-afad-ef09dee4ac5f",
   "metadata": {},
   "outputs": [],
   "source": [
    "from nltk import ngrams"
   ]
  },
  {
   "cell_type": "code",
   "execution_count": null,
   "id": "95ce3d38-a55b-4733-bddf-81f68abdb740",
   "metadata": {},
   "outputs": [],
   "source": [
    "sentence = \"He went to school yesterday and attended the classes\""
   ]
  },
  {
   "cell_type": "code",
   "execution_count": null,
   "id": "0048538b-98ed-4257-a832-8dc2cd65dec6",
   "metadata": {},
   "outputs": [],
   "source": [
    "for n in range(1,5):\n",
    "    print(\"\\n{}-grams\".format(n))\n",
    "    n_grams = ngrams(sentence.split(), n)\n",
    "\n",
    "    for ngram in n_grams:\n",
    "        print(ngram, end=\" \")"
   ]
  },
  {
   "cell_type": "markdown",
   "id": "913ec16e-f9af-4681-862f-72cf669335ff",
   "metadata": {},
   "source": [
    "### PoS Tagging"
   ]
  },
  {
   "cell_type": "code",
   "execution_count": null,
   "id": "72d749c5-1b18-4571-ad07-8448ba2c9499",
   "metadata": {},
   "outputs": [],
   "source": [
    "from nltk import pos_tag, word_tokenize"
   ]
  },
  {
   "cell_type": "code",
   "execution_count": null,
   "id": "0993b04f-8314-48c1-b213-2c963ede7507",
   "metadata": {},
   "outputs": [],
   "source": [
    "tokens = word_tokenize(sentence)\n",
    "print(pos_tag(tokens))"
   ]
  },
  {
   "cell_type": "markdown",
   "id": "c51a424f-05e3-44ec-8032-029ad88fe6ba",
   "metadata": {},
   "source": [
    "#### Using spaCy"
   ]
  },
  {
   "cell_type": "code",
   "execution_count": null,
   "id": "cfbbfa8d-cbcb-4ffb-be6b-beb67fe3fa3d",
   "metadata": {},
   "outputs": [],
   "source": [
    "! pip3 install spacy\n",
    "! python3 -m spacy download en_core_web_sm"
   ]
  },
  {
   "cell_type": "markdown",
   "id": "b6e15d16-a491-48f9-97ca-8f2619573ce4",
   "metadata": {},
   "source": [
    "#### PoS Tagging with spaCy"
   ]
  },
  {
   "cell_type": "code",
   "execution_count": null,
   "id": "0985269b-034c-4e3f-9aba-4211e1836c8c",
   "metadata": {},
   "outputs": [],
   "source": [
    "import spacy\n",
    "nlp = spacy.load(\"en_core_web_sm\")"
   ]
  },
  {
   "cell_type": "code",
   "execution_count": null,
   "id": "fb0cb853-8168-4822-b3d0-ba064182bf59",
   "metadata": {},
   "outputs": [],
   "source": [
    "doc = nlp(sentence)\n",
    "for token in doc:\n",
    "    print(token.text, token.pos_, token.dep_)"
   ]
  },
  {
   "cell_type": "code",
   "execution_count": null,
   "id": "9e4d1d1e-fb80-4740-98fd-0e325d2b68d3",
   "metadata": {},
   "outputs": [],
   "source": [
    "for token in doc:\n",
    "    print(token.text, token.lemma_, token.pos_, token.tag_, token.dep_, token.shape_, token.is_alpha, token.is_stop)"
   ]
  },
  {
   "cell_type": "markdown",
   "id": "44ac9a1f-38e3-4456-9e69-18dd8990c903",
   "metadata": {},
   "source": [
    "## Lemmatization"
   ]
  },
  {
   "cell_type": "code",
   "execution_count": null,
   "id": "9221730e-1b49-4a8e-8ccb-19ebabf1462f",
   "metadata": {},
   "outputs": [],
   "source": [
    "from nltk.stem import WordNetLemmatizer"
   ]
  },
  {
   "cell_type": "code",
   "execution_count": null,
   "id": "08047627-4646-4960-b550-4ff663dd3d3d",
   "metadata": {},
   "outputs": [],
   "source": [
    "lemmatizer = WordNetLemmatizer()"
   ]
  },
  {
   "cell_type": "code",
   "execution_count": null,
   "id": "74d3080d-bacb-4cf1-ab0e-228dae05c816",
   "metadata": {},
   "outputs": [],
   "source": [
    "for word in sentence.split():\n",
    "    print(lemmatizer.lemmatize(word), end=' ')"
   ]
  },
  {
   "cell_type": "code",
   "execution_count": null,
   "id": "180193c0-ed35-4860-b647-50724112e54c",
   "metadata": {},
   "outputs": [],
   "source": [
    "from nltk.corpus import wordnet as wn\n",
    "# Check the complete list of tags http://www.nltk.org/book/ch05.html\n",
    "def wntag(tag):\n",
    "    if tag.startswith(\"J\"):\n",
    "        return wn.ADJ\n",
    "    elif tag.startswith(\"R\"):\n",
    "        return wn.ADV\n",
    "    elif tag.startswith(\"N\"):\n",
    "        return wn.NOUN\n",
    "    elif tag.startswith(\"V\"):\n",
    "        return wn.VERB\n",
    "    return None"
   ]
  },
  {
   "cell_type": "code",
   "execution_count": null,
   "id": "4878e3e4-1dab-4283-a602-6d717f835e90",
   "metadata": {},
   "outputs": [],
   "source": [
    "tokens = word_tokenize(sentence)"
   ]
  },
  {
   "cell_type": "code",
   "execution_count": null,
   "id": "24b36d30-04a4-4a1a-98dd-1367c9253d6e",
   "metadata": {},
   "outputs": [],
   "source": [
    "tokens"
   ]
  },
  {
   "cell_type": "code",
   "execution_count": null,
   "id": "c544a341-6222-47ea-bd4e-403d5de5530e",
   "metadata": {},
   "outputs": [],
   "source": [
    "for token, tag in pos_tag(tokens):\n",
    "    if wntag(tag):\n",
    "        print(lemmatizer.lemmatize(token, wntag(tag)), end=' ')\n",
    "    else:\n",
    "        print(lemmatizer.lemmatize(token), end=' ')"
   ]
  },
  {
   "cell_type": "markdown",
   "id": "15f1b094-0737-4283-ad47-9524b18b5e09",
   "metadata": {},
   "source": [
    "#### Using spaCy"
   ]
  },
  {
   "cell_type": "code",
   "execution_count": null,
   "id": "92d17b96-80c1-44e5-bbbb-94d0d9b4c233",
   "metadata": {},
   "outputs": [],
   "source": [
    "nlp = spacy.load(\"en_core_web_sm\")"
   ]
  },
  {
   "cell_type": "code",
   "execution_count": null,
   "id": "2867ca80-f33f-463b-bd24-45a15004f4d7",
   "metadata": {},
   "outputs": [],
   "source": [
    "doc = nlp(sentence)"
   ]
  },
  {
   "cell_type": "code",
   "execution_count": null,
   "id": "077d45c5-4c18-4278-884f-50532ebcda86",
   "metadata": {},
   "outputs": [],
   "source": [
    "for token in doc:\n",
    "    print(token.lemma_, end=' ')"
   ]
  },
  {
   "cell_type": "markdown",
   "id": "1b21c940-371a-4510-9e80-be0af926c0c2",
   "metadata": {},
   "source": [
    "## Morphology"
   ]
  },
  {
   "cell_type": "code",
   "execution_count": null,
   "id": "f5910b8e-04b2-4033-bf1d-8defad2d4822",
   "metadata": {},
   "outputs": [],
   "source": [
    "from spacy import displacy"
   ]
  },
  {
   "cell_type": "code",
   "execution_count": null,
   "id": "31ef82a3-da2e-4b85-af88-a56afb620df2",
   "metadata": {},
   "outputs": [],
   "source": [
    "displacy.render(doc, style=\"dep\")"
   ]
  }
 ],
 "metadata": {
  "kernelspec": {
   "display_name": "Python 3 (ipykernel)",
   "language": "python",
   "name": "python3"
  },
  "language_info": {
   "codemirror_mode": {
    "name": "ipython",
    "version": 3
   },
   "file_extension": ".py",
   "mimetype": "text/x-python",
   "name": "python",
   "nbconvert_exporter": "python",
   "pygments_lexer": "ipython3",
   "version": "3.10.12"
  }
 },
 "nbformat": 4,
 "nbformat_minor": 5
}
